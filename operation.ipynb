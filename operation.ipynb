{
 "cells": [
  {
   "cell_type": "code",
   "execution_count": 1,
   "id": "4cfa8d7f",
   "metadata": {},
   "outputs": [
    {
     "name": "stdout",
     "output_type": "stream",
     "text": [
      "number1: 185\n",
      "number2: 52\n",
      "sum: 237\n",
      "substract: 133\n",
      "divide: 3\n",
      "multiply: 9620\n"
     ]
    }
   ],
   "source": [
    "# arithmetic operators\n",
    "\n",
    "number1=int(input(\"enter number\"))\n",
    "number2=int(input(\"enter number\"))\n",
    "sum=number1+number2\n",
    "substract=number1-number2\n",
    "divide=number1//number2\n",
    "multiply=number1*number2\n",
    "\n",
    "print(\"number1:\",number1)\n",
    "print(\"number2:\",number2)\n",
    "print(\"sum:\",sum)\n",
    "print(\"substract:\",substract)\n",
    "print(\"divide:\",divide)\n",
    "print(\"multiply:\",multiply)"
   ]
  },
  {
   "cell_type": "code",
   "execution_count": 3,
   "id": "58a64c3c",
   "metadata": {},
   "outputs": [
    {
     "name": "stdout",
     "output_type": "stream",
     "text": [
      "sum: 315\n",
      "substract: 197\n",
      "multiply: 15104\n"
     ]
    }
   ],
   "source": [
    "\n",
    "number1=int(input(\"enter number\"))\n",
    "number2=int(input(\"enter number\"))\n",
    "sum=number1+number2\n",
    "substract=number1-number2\n",
    "divide=number1//number2\n",
    "multiply=number1*number2\n",
    "\n",
    "print(\"sum:\",sum)\n",
    "print(\"substract:\",substract)\n",
    "print(\"multiply:\",multiply)"
   ]
  },
  {
   "cell_type": "code",
   "execution_count": 10,
   "id": "bade0a76",
   "metadata": {},
   "outputs": [
    {
     "name": "stdout",
     "output_type": "stream",
     "text": [
      "False\n",
      "True\n",
      "False\n",
      "True\n",
      "False\n",
      "True\n"
     ]
    }
   ],
   "source": [
    "a=200\n",
    "b=105\n",
    "print(a<b)\n",
    "print(a>b)\n",
    "print(a<=b)\n",
    "print(a>=b)\n",
    "print(a==b)\n",
    "print(a!=b)\n",
    "\n"
   ]
  },
  {
   "cell_type": "code",
   "execution_count": 1,
   "id": "17cdbd7e",
   "metadata": {},
   "outputs": [
    {
     "name": "stdout",
     "output_type": "stream",
     "text": [
      "e is largest\n"
     ]
    }
   ],
   "source": [
    "a,b,c,d,e =20,30,40,50,60\n",
    "if a>b and a>c and a>d and a>e:\n",
    "    print(\"a is largest\")\n",
    "elif b>a and b>c and b>d and b>d:\n",
    "    print(\"b is largest\")\n",
    "elif c>a and c>b and c>d and c>e:\n",
    "    print(\"c is largest\")\n",
    "elif d>a and d>b and d>c and d>e:\n",
    "    print(\"d is largest\")\n",
    "elif e>a and e>b and e>c and e>d:\n",
    "    print(\"e is largest\")"
   ]
  },
  {
   "cell_type": "code",
   "execution_count": 9,
   "id": "46ed9c31",
   "metadata": {},
   "outputs": [
    {
     "name": "stdout",
     "output_type": "stream",
     "text": [
      "True\n",
      "False\n",
      "True\n",
      "False\n"
     ]
    }
   ],
   "source": [
    "# membership operators \n",
    "# means the word include in the value of the assigned value \n",
    "\n",
    "name=\"welcome altaf\"\n",
    "print('f' in name)\n",
    "print('f' not in name)\n",
    "\n",
    "name=\"welcome khusboo\" \n",
    "print('k' in name)\n",
    "print('k'not in name)\n"
   ]
  },
  {
   "cell_type": "code",
   "execution_count": null,
   "id": "b7ff6814",
   "metadata": {},
   "outputs": [
    {
     "name": "stdout",
     "output_type": "stream",
     "text": [
      "40\n",
      "80\n",
      "40\n",
      "1600\n",
      "40.0\n",
      "1.0\n"
     ]
    }
   ],
   "source": [
    "# assigned operators =\n",
    "\n",
    "a=40\n",
    "print(a)\n",
    "a+=40\n",
    "print(a)\n",
    "a-=40\n",
    "print(a)\n",
    "a*=40\n",
    "print(a)\n",
    "a/=40\n",
    "print(a)\n",
    "a//=40\n",
    "print(a)\n"
   ]
  },
  {
   "cell_type": "code",
   "execution_count": 7,
   "id": "fe83b324",
   "metadata": {},
   "outputs": [
    {
     "name": "stdout",
     "output_type": "stream",
     "text": [
      "30\n",
      "640\n",
      "15000\n",
      "1.5\n",
      "False\n",
      "250\n",
      "-50\n"
     ]
    }
   ],
   "source": [
    "a=40+20-30\n",
    "print(a)\n",
    "a=40+30*20\n",
    "print(a)\n",
    "a=100\n",
    "b=150\n",
    "print(a*b)\n",
    "print(b/a)\n",
    "print(a==b)\n",
    "print(a+b)\n",
    "print(a-b)\n"
   ]
  },
  {
   "cell_type": "code",
   "execution_count": 11,
   "id": "f70f6218",
   "metadata": {},
   "outputs": [
    {
     "name": "stdout",
     "output_type": "stream",
     "text": [
      "False\n",
      "True\n",
      "False\n",
      "False\n",
      "True\n"
     ]
    }
   ],
   "source": [
    "# identity operators \n",
    "\n",
    "a=20\n",
    "b=30\n",
    "\n",
    "print(a is b)\n",
    "print(a is not b)\n",
    "\n",
    "a=20\n",
    "b=50\n",
    "c=60\n",
    "print(a is c)\n",
    "print(a is b)\n",
    "print(a is not c)"
   ]
  },
  {
   "cell_type": "code",
   "execution_count": 12,
   "id": "c0473b20",
   "metadata": {},
   "outputs": [
    {
     "name": "stdout",
     "output_type": "stream",
     "text": [
      "False\n",
      "False\n",
      "False\n"
     ]
    }
   ],
   "source": [
    "# logical operators \n",
    "# and\n",
    "\n",
    "print(42>45 and 89==89)\n",
    "# or\n",
    "print(42>45 and 89==89)\n",
    "# not\n",
    "print(not 52==52)"
   ]
  },
  {
   "cell_type": "code",
   "execution_count": 1,
   "id": "92622dba",
   "metadata": {},
   "outputs": [
    {
     "name": "stdout",
     "output_type": "stream",
     "text": [
      "19\n"
     ]
    }
   ],
   "source": [
    "def add(x,y=10):\n",
    "    return x+y\n",
    "print(add(9))"
   ]
  },
  {
   "cell_type": "code",
   "execution_count": 2,
   "id": "d3fadeca",
   "metadata": {},
   "outputs": [
    {
     "name": "stdout",
     "output_type": "stream",
     "text": [
      "19\n"
     ]
    }
   ],
   "source": [
    "def add(x=5,y=10):\n",
    "    return x+y\n",
    "print(add(9))"
   ]
  },
  {
   "cell_type": "code",
   "execution_count": null,
   "id": "5f6c69e1",
   "metadata": {},
   "outputs": [
    {
     "name": "stdout",
     "output_type": "stream",
     "text": [
      "9\n"
     ]
    }
   ],
   "source": [
    "def add(x=5):\n",
    "    return x\n",
    "print(add(9))"
   ]
  },
  {
   "cell_type": "code",
   "execution_count": 5,
   "id": "2b9412a2",
   "metadata": {},
   "outputs": [
    {
     "name": "stdout",
     "output_type": "stream",
     "text": [
      "[2, 7, 5, 9]\n"
     ]
    }
   ],
   "source": [
    "number=[2,7,9]\n",
    "number.insert(2,5)\n",
    "print(number)"
   ]
  },
  {
   "cell_type": "code",
   "execution_count": 7,
   "id": "7fb4e603",
   "metadata": {},
   "outputs": [
    {
     "name": "stdout",
     "output_type": "stream",
     "text": [
      "[2, 7, 9, 10]\n"
     ]
    }
   ],
   "source": [
    "number=[2,7,9,10,50]\n",
    "number.remove(50)\n",
    "print(number)"
   ]
  },
  {
   "cell_type": "code",
   "execution_count": null,
   "id": "70a41c25",
   "metadata": {},
   "outputs": [],
   "source": [
    "nums = [1,2,3,4,5]\n",
    "for num in nums:\n",
    "    if num ==3:\n",
    "        break\n",
    "else:\n",
    "    print(\"loop conpleted\")"
   ]
  },
  {
   "cell_type": "code",
   "execution_count": 10,
   "id": "795978d4",
   "metadata": {},
   "outputs": [
    {
     "name": "stdout",
     "output_type": "stream",
     "text": [
      "-9840\n"
     ]
    }
   ],
   "source": [
    "k = \"120\"\n",
    "l = \"-82\"\n",
    "result = int(k) * int(l)\n",
    "print (result)"
   ]
  },
  {
   "cell_type": "code",
   "execution_count": null,
   "id": "f6a2b71b",
   "metadata": {},
   "outputs": [
    {
     "name": "stdout",
     "output_type": "stream",
     "text": [
      "divisible\n"
     ]
    }
   ],
   "source": [
    "x = 10\n",
    "if x % 5 ==0:\n",
    "    print(\"divisible\")\n",
    "else:\n",
    "    print(\"not divisible\")"
   ]
  },
  {
   "cell_type": "code",
   "execution_count": 13,
   "id": "fb57a38f",
   "metadata": {},
   "outputs": [
    {
     "name": "stdout",
     "output_type": "stream",
     "text": [
      "a\n",
      "b\n",
      "w\n"
     ]
    }
   ],
   "source": [
    "fruits = [\"apple\",\"banana\",\"watermelon\"]\n",
    "for i in range(len(fruits)):\n",
    "    print(fruits[i][0])"
   ]
  },
  {
   "cell_type": "code",
   "execution_count": 16,
   "id": "47a03b48",
   "metadata": {},
   "outputs": [
    {
     "name": "stdout",
     "output_type": "stream",
     "text": [
      "None\n"
     ]
    }
   ],
   "source": [
    "a={1,2,3,4}\n",
    "b=a.add(5)\n",
    "print(b)"
   ]
  },
  {
   "cell_type": "code",
   "execution_count": 19,
   "id": "9de25b8a",
   "metadata": {},
   "outputs": [
    {
     "name": "stdout",
     "output_type": "stream",
     "text": [
      "10\n"
     ]
    }
   ],
   "source": [
    "total = 0\n",
    "for i in range(1,5):\n",
    "    total+=  i\n",
    "print(total)"
   ]
  },
  {
   "cell_type": "code",
   "execution_count": 2,
   "id": "3a774f05",
   "metadata": {},
   "outputs": [
    {
     "name": "stdout",
     "output_type": "stream",
     "text": [
      "15\n"
     ]
    }
   ],
   "source": [
    "a = {\"y\":10,\"z\":10}\n",
    "print(a[\"z\"]+5)"
   ]
  },
  {
   "cell_type": "code",
   "execution_count": 3,
   "id": "9c38fe1c",
   "metadata": {},
   "outputs": [
    {
     "name": "stdout",
     "output_type": "stream",
     "text": [
      "50\n"
     ]
    }
   ],
   "source": [
    "a = {\"x\":10,\"y\":20,\"z\":30}\n",
    "print(a[\"z\"]+20)"
   ]
  },
  {
   "cell_type": "code",
   "execution_count": 4,
   "id": "efa2ba50",
   "metadata": {},
   "outputs": [
    {
     "name": "stdout",
     "output_type": "stream",
     "text": [
      "raming\n"
     ]
    }
   ],
   "source": [
    "a=\"programing\"\n",
    "b=a[4:10]\n",
    "print(b)"
   ]
  },
  {
   "cell_type": "code",
   "execution_count": 5,
   "id": "a4e8fb2a",
   "metadata": {},
   "outputs": [
    {
     "name": "stdout",
     "output_type": "stream",
     "text": [
      "ender\n"
     ]
    }
   ],
   "source": [
    "a=\"defender\"\n",
    "b=a[3:8]\n",
    "print(b)"
   ]
  },
  {
   "cell_type": "code",
   "execution_count": 6,
   "id": "19fb77d6",
   "metadata": {},
   "outputs": [
    {
     "name": "stdout",
     "output_type": "stream",
     "text": [
      "mismatch\n"
     ]
    }
   ],
   "source": [
    "x=4\n",
    "if x*2==20:\n",
    "    print(\"match\")\n",
    "else:\n",
    "    print(\"mismatch\")"
   ]
  },
  {
   "cell_type": "code",
   "execution_count": 1,
   "id": "943f64cb",
   "metadata": {},
   "outputs": [
    {
     "name": "stdout",
     "output_type": "stream",
     "text": [
      "98.55999999999999\n"
     ]
    }
   ],
   "source": [
    "r=5.6\n",
    "area=22/7*r**2\n",
    "print(area)"
   ]
  },
  {
   "cell_type": "code",
   "execution_count": 10,
   "id": "209db2fa",
   "metadata": {},
   "outputs": [
    {
     "name": "stdout",
     "output_type": "stream",
     "text": [
      "5283.142857142857\n"
     ]
    }
   ],
   "source": [
    "r=int(input(\"enter radius\"))\n",
    "area=22/7*r**2\n",
    "print(area)"
   ]
  },
  {
   "cell_type": "code",
   "execution_count": 11,
   "id": "9a8349b5",
   "metadata": {},
   "outputs": [
    {
     "name": "stdout",
     "output_type": "stream",
     "text": [
      "4\n"
     ]
    }
   ],
   "source": [
    "# area of rectangle\n",
    "\n",
    "length=int(input(\"enter length\"))\n",
    "width=int(input(\"enter width\"))\n",
    "area=length*width\n",
    "print(area)\n",
    "\n"
   ]
  },
  {
   "cell_type": "code",
   "execution_count": 12,
   "id": "a16e76b2",
   "metadata": {},
   "outputs": [
    {
     "name": "stdout",
     "output_type": "stream",
     "text": [
      "82\n"
     ]
    }
   ],
   "source": [
    "# diameter \n",
    "\n",
    "d=2*r\n",
    "print(d)"
   ]
  },
  {
   "cell_type": "code",
   "execution_count": null,
   "id": "bf8e694d",
   "metadata": {},
   "outputs": [
    {
     "name": "stdout",
     "output_type": "stream",
     "text": [
      "5.0\n",
      "64\n"
     ]
    }
   ],
   "source": [
    "# area of triangle \n",
    "\n",
    "base=int(input(\"enter base\"))\n",
    "height=int(input(\"enter height\"))\n",
    "area=1/2*base*height\n",
    "print(area)\n",
    "\n",
    "# area of square\n",
    "\n",
    "\n",
    "side=int(input(\"enter side\"))\n",
    "area=side*side\n",
    "print(area)\n"
   ]
  }
 ],
 "metadata": {
  "kernelspec": {
   "display_name": "base",
   "language": "python",
   "name": "python3"
  },
  "language_info": {
   "codemirror_mode": {
    "name": "ipython",
    "version": 3
   },
   "file_extension": ".py",
   "mimetype": "text/x-python",
   "name": "python",
   "nbconvert_exporter": "python",
   "pygments_lexer": "ipython3",
   "version": "3.12.7"
  }
 },
 "nbformat": 4,
 "nbformat_minor": 5
}
