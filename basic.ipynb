{
 "cells": [
  {
   "cell_type": "code",
   "execution_count": 1,
   "id": "60e3b112",
   "metadata": {},
   "outputs": [
    {
     "name": "stdout",
     "output_type": "stream",
     "text": [
      "welcome to codes with aftab\n",
      "welcome to codes with aftab\n"
     ]
    }
   ],
   "source": [
    "print(\"welcome to codes with aftab\")\n",
    "print(\"welcome to codes with aftab\")"
   ]
  },
  {
   "cell_type": "code",
   "execution_count": 2,
   "id": "329bea2b",
   "metadata": {},
   "outputs": [
    {
     "name": "stdout",
     "output_type": "stream",
     "text": [
      "welcome to codes with aftab\n"
     ]
    }
   ],
   "source": [
    "print('welcome to codes with aftab')"
   ]
  },
  {
   "cell_type": "code",
   "execution_count": 3,
   "id": "b88761b4",
   "metadata": {},
   "outputs": [
    {
     "name": "stdout",
     "output_type": "stream",
     "text": [
      "'welcome'\n",
      "\"welcome\"\n"
     ]
    }
   ],
   "source": [
    "print(\"'welcome'\")\n",
    "print('\"welcome\"')"
   ]
  },
  {
   "cell_type": "code",
   "execution_count": 4,
   "id": "e3467072",
   "metadata": {},
   "outputs": [
    {
     "name": "stdout",
     "output_type": "stream",
     "text": [
      "123789\n"
     ]
    }
   ],
   "source": [
    "print(123789)\n",
    "#print(\"my number is:\",3789)\n"
   ]
  },
  {
   "cell_type": "code",
   "execution_count": 5,
   "id": "726259e5",
   "metadata": {},
   "outputs": [
    {
     "name": "stdout",
     "output_type": "stream",
     "text": [
      "100\n"
     ]
    }
   ],
   "source": [
    "x = 100\n",
    "print(x)"
   ]
  },
  {
   "cell_type": "code",
   "execution_count": 6,
   "id": "5ddb7bad",
   "metadata": {},
   "outputs": [
    {
     "name": "stdout",
     "output_type": "stream",
     "text": [
      "my result is: 137\n"
     ]
    }
   ],
   "source": [
    "a = 100\n",
    "b = 67\n",
    "\n",
    "c = 67+70\n",
    "print(\"my result is:\",c)"
   ]
  },
  {
   "cell_type": "code",
   "execution_count": 7,
   "id": "c2a24419",
   "metadata": {},
   "outputs": [
    {
     "name": "stdout",
     "output_type": "stream",
     "text": [
      "my name is : aftab\n",
      "my age is :  20\n",
      "my height is : 5.2\n"
     ]
    }
   ],
   "source": [
    "name = \"aftab\"\n",
    "age = 20\n",
    "height = 5.2\n",
    "\n",
    "print(\"my name is :\",name)\n",
    "print(\"my age is : \",age)\n",
    "print(\"my height is :\",height)"
   ]
  },
  {
   "cell_type": "code",
   "execution_count": 8,
   "id": "8c8b179e",
   "metadata": {},
   "outputs": [
    {
     "name": "stdout",
     "output_type": "stream",
     "text": [
      "<class 'str'>\n",
      "<class 'int'>\n",
      "<class 'float'>\n"
     ]
    }
   ],
   "source": [
    "print(type(name))\n",
    "print(type(age))\n",
    "print(type(height))\n",
    "           "
   ]
  },
  {
   "cell_type": "code",
   "execution_count": 9,
   "id": "a1658bc7",
   "metadata": {},
   "outputs": [
    {
     "name": "stdout",
     "output_type": "stream",
     "text": [
      "120\n",
      "256\n",
      "785\n"
     ]
    }
   ],
   "source": [
    "a , b , c = 120, 256, 785\n",
    "\n",
    "print(a)\n",
    "print(b)\n",
    "print(c)"
   ]
  },
  {
   "cell_type": "code",
   "execution_count": 11,
   "id": "ba4470f5",
   "metadata": {},
   "outputs": [
    {
     "name": "stdout",
     "output_type": "stream",
     "text": [
      "205.95454545454547\n"
     ]
    }
   ],
   "source": [
    "a = 50+60+100-89/22\n",
    "print(a)"
   ]
  },
  {
   "cell_type": "code",
   "execution_count": 10,
   "id": "97c6469e",
   "metadata": {},
   "outputs": [
    {
     "name": "stdout",
     "output_type": "stream",
     "text": [
      "10000\n"
     ]
    }
   ],
   "source": [
    "a = 500*20\n",
    "print(a)"
   ]
  }
 ],
 "metadata": {
  "kernelspec": {
   "display_name": "base",
   "language": "python",
   "name": "python3"
  },
  "language_info": {
   "codemirror_mode": {
    "name": "ipython",
    "version": 3
   },
   "file_extension": ".py",
   "mimetype": "text/x-python",
   "name": "python",
   "nbconvert_exporter": "python",
   "pygments_lexer": "ipython3",
   "version": "3.12.7"
  }
 },
 "nbformat": 4,
 "nbformat_minor": 5
}
