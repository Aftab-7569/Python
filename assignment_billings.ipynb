{
 "cells": [
  {
   "cell_type": "code",
   "execution_count": 1,
   "id": "13489d9c-9b22-4f33-a2e8-04c35b5f2c8d",
   "metadata": {},
   "outputs": [
    {
     "name": "stdout",
     "output_type": "stream",
     "text": [
      "-------------bill--------------\n"
     ]
    },
    {
     "name": "stdin",
     "output_type": "stream",
     "text": [
      "enter the product of the list: 4\n",
      "enter product item: samosa\n",
      "enter product item: kachori\n",
      "enter product item: fafada\n",
      "enter product item: jalebi\n",
      "enter product price: 20\n",
      "enter product price: 30\n",
      "enter product price: 40\n",
      "enter product price: 80\n"
     ]
    },
    {
     "name": "stdout",
     "output_type": "stream",
     "text": [
      "-------output--------\n",
      "samosa = 20\n",
      "kachori = 30\n",
      "fafada = 40\n",
      "jalebi = 80\n"
     ]
    }
   ],
   "source": [
    "\n",
    "# assignment 1\n",
    "print(\"-------------bill--------------\")\n",
    "size=int(input(\"enter the product of the list:\"))\n",
    "product=[]\n",
    "price=[]\n",
    "for i in range(size):\n",
    "    i = input(\"enter product item:\")\n",
    "    product.append(i)\n",
    "\n",
    "for i in range(size):\n",
    "    i=int(input(\"enter product price:\"))\n",
    "    price.append(i)\n",
    "print(\"-------output--------\")\n",
    "for i in range(size):\n",
    "    print(product[i],\"=\",price[i])"
   ]
  },
  {
   "cell_type": "code",
   "execution_count": 2,
   "id": "7bd4de3a-6f3c-4268-98c8-3ab38c9615eb",
   "metadata": {},
   "outputs": [
    {
     "name": "stdout",
     "output_type": "stream",
     "text": [
      "-------------bill--------------\n"
     ]
    },
    {
     "name": "stdin",
     "output_type": "stream",
     "text": [
      "enter the product of the list: 3\n",
      "enter product item: cake\n",
      "enter product item: chocolate\n",
      "enter product item: icecream\n",
      "enter product price: 200\n",
      "enter product price: 50\n",
      "enter product price: 30\n"
     ]
    },
    {
     "name": "stdout",
     "output_type": "stream",
     "text": [
      "-------output--------\n",
      "cake = 200\n",
      "chocolate = 50\n",
      "icecream = 30\n"
     ]
    }
   ],
   "source": [
    "\n",
    "print(\"-------------bill--------------\")\n",
    "size=int(input(\"enter the product of the list:\"))\n",
    "product=[]\n",
    "price=[]\n",
    "\n",
    "for i in range(size):\n",
    "    i = input(\"enter product item:\")\n",
    "    product.append(i)\n",
    "\n",
    "for i in range(size):\n",
    "    i=int(input(\"enter product price:\"))\n",
    "    price.append(i)\n",
    "print(\"-------output--------\")\n",
    "for i in range(size):\n",
    "    print(product[i],\"=\",price[i])"
   ]
  },
  {
   "cell_type": "code",
   "execution_count": null,
   "id": "ab31f8ed-77e8-4bd4-a1a1-0840c779364e",
   "metadata": {},
   "outputs": [],
   "source": []
  }
 ],
 "metadata": {
  "kernelspec": {
   "display_name": "Python 3 (ipykernel)",
   "language": "python",
   "name": "python3"
  },
  "language_info": {
   "codemirror_mode": {
    "name": "ipython",
    "version": 3
   },
   "file_extension": ".py",
   "mimetype": "text/x-python",
   "name": "python",
   "nbconvert_exporter": "python",
   "pygments_lexer": "ipython3",
   "version": "3.12.7"
  }
 },
 "nbformat": 4,
 "nbformat_minor": 5
}
