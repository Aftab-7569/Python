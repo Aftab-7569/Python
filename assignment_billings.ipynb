{
 "cells": [
  {
   "cell_type": "code",
   "execution_count": 1,
   "id": "13489d9c-9b22-4f33-a2e8-04c35b5f2c8d",
   "metadata": {},
   "outputs": [
    {
     "name": "stdout",
     "output_type": "stream",
     "text": [
      "-------------bill--------------\n"
     ]
    },
    {
     "name": "stdout",
     "output_type": "stream",
     "text": [
      "enter the product of the list: 4\n",
      "enter product item: samosa\n",
      "enter product item: kachori\n",
      "enter product item: fafada\n",
      "enter product item: jalebi\n",
      "enter product price: 20\n",
      "enter product price: 30\n",
      "enter product price: 40\n",
      "enter product price: 80\n"
     ]
    },
    {
     "name": "stdout",
     "output_type": "stream",
     "text": [
      "-------output--------\n",
      "samosa = 20\n",
      "kachori = 30\n",
      "fafada = 40\n",
      "jalebi = 80\n"
     ]
    }
   ],
   "source": [
    "\n",
    "# assignment 1\n",
    "print(\"-------------bill--------------\")\n",
    "size=int(input(\"enter the product of the list:\"))\n",
    "product=[]\n",
    "price=[]\n",
    "for i in range(size):\n",
    "    i = input(\"enter product item:\")\n",
    "    product.append(i)\n",
    "\n",
    "for i in range(size):\n",
    "    i=int(input(\"enter product price:\"))\n",
    "    price.append(i)\n",
    "print(\"-------output--------\")\n",
    "for i in range(size):\n",
    "    print(product[i],\"=\",price[i])"
   ]
  },
  {
   "cell_type": "code",
   "execution_count": 2,
   "id": "7bd4de3a-6f3c-4268-98c8-3ab38c9615eb",
   "metadata": {},
   "outputs": [
    {
     "name": "stdout",
     "output_type": "stream",
     "text": [
      "-------------bill--------------\n"
     ]
    },
    {
     "name": "stdout",
     "output_type": "stream",
     "text": [
      "enter the product of the list: 3\n",
      "enter product item: cake\n",
      "enter product item: chocolate\n",
      "enter product item: icecream\n",
      "enter product price: 200\n",
      "enter product price: 50\n",
      "enter product price: 30\n"
     ]
    },
    {
     "name": "stdout",
     "output_type": "stream",
     "text": [
      "-------output--------\n",
      "cake = 200\n",
      "chocolate = 50\n",
      "icecream = 30\n"
     ]
    }
   ],
   "source": [
    "# assignment 1 practice\n",
    "print(\"-------------bill--------------\")\n",
    "size=int(input(\"enter the product of the list:\"))\n",
    "product=[]\n",
    "price=[]\n",
    "\n",
    "for i in range(size):\n",
    "    i = input(\"enter product item:\")\n",
    "    product.append(i)\n",
    "\n",
    "for i in range(size):\n",
    "    i=int(input(\"enter product price:\"))\n",
    "    price.append(i)\n",
    "print(\"-------output--------\")\n",
    "for i in range(size):\n",
    "    print(product[i],\"=\",price[i])"
   ]
  },
  {
   "cell_type": "code",
   "execution_count": 10,
   "id": "72e73317-5c34-4380-9dfc-f2b00fb183bd",
   "metadata": {},
   "outputs": [
    {
     "name": "stdout",
     "output_type": "stream",
     "text": [
      "-------------billings--------------\n"
     ]
    },
    {
     "name": "stdin",
     "output_type": "stream",
     "text": [
      "enter list size: 4\n",
      "enter product name: samosa\n",
      "enter product name: kachori\n",
      "enter product name: vada\n",
      "enter product name: chinese\n",
      "enter product price: 20\n",
      "enter product price: 3\n",
      "enter product price: 60\n",
      "enter product price: 80\n"
     ]
    },
    {
     "name": "stdout",
     "output_type": "stream",
     "text": [
      "------------------------\n"
     ]
    },
    {
     "name": "stdin",
     "output_type": "stream",
     "text": [
      "do you want gst [y/n] n\n"
     ]
    },
    {
     "name": "stdout",
     "output_type": "stream",
     "text": [
      "1 . samosa = 20\n",
      "------------------------\n",
      "complete without gst= 20\n",
      "2 . kachori = 3\n",
      "------------------------\n",
      "complete without gst= 23\n",
      "3 . vada = 60\n",
      "------------------------\n",
      "complete without gst= 83\n",
      "4 . chinese = 80\n",
      "------------------------\n",
      "complete without gst= 163\n"
     ]
    }
   ],
   "source": [
    "# assignment 2\n",
    "\n",
    "print(\"-------------billings--------------\")\n",
    "size=int(input(\"enter list size:\"))\n",
    "product=[]\n",
    "price=[]\n",
    "\n",
    "for i in range(size):\n",
    "    i = input(\"enter product name:\")\n",
    "    product.append(i)\n",
    "\n",
    "for i in range(size):\n",
    "    i=int(input(\"enter product price:\"))\n",
    "    price.append(i)\n",
    "print('------------------------')\n",
    "yes=input(\"do you want gst [y/n]\")\n",
    "if yes =='y' or yes=='y':\n",
    "    gst=int(input(\"enter gst%\"))\n",
    "    total=0\n",
    "    for i in range (size):\n",
    "        total=total+price[i]\n",
    "        print((i+1),\".\",product[i],'=',price[i])\n",
    "        gstamount=total*gst/100\n",
    "        mrp=gstamount+total\n",
    "    print(\"---------------------\")\n",
    "    print(\"gst:\",gst,\"%\")\n",
    "    print(\"gst:\",gstamount)\n",
    "    print(\"-----------------------\")\n",
    "    print(\"mrp:\",mrp,\"/-\")\n",
    "\n",
    "else:\n",
    "    total=0\n",
    "    for i in range (size):\n",
    "        total=total+price[i]\n",
    "        print((i+1),\".\",product[i],'=',price[i])\n",
    "        print('------------------------')\n",
    "        print(\"complete without gst=\",total)"
   ]
  },
  {
   "cell_type": "code",
   "execution_count": 13,
   "id": "3189e9be-23c3-4c17-9396-add9267868a3",
   "metadata": {},
   "outputs": [
    {
     "name": "stdout",
     "output_type": "stream",
     "text": [
      "-------------billings--------------\n"
     ]
    },
    {
     "name": "stdin",
     "output_type": "stream",
     "text": [
      "enter list size: 4\n",
      "enter product name: samosa\n",
      "enter product name: bhajiya\n",
      "enter product name: katles\n",
      "enter product name: jalebi\n",
      "enter product price: 20\n",
      "enter product price: 30\n",
      "enter product price: 50\n",
      "enter product price: 80\n"
     ]
    },
    {
     "name": "stdout",
     "output_type": "stream",
     "text": [
      "------------------------\n"
     ]
    },
    {
     "name": "stdin",
     "output_type": "stream",
     "text": [
      "do you want gst [y/n] y\n",
      "enter gst% 18\n"
     ]
    },
    {
     "name": "stdout",
     "output_type": "stream",
     "text": [
      "1 . samosa = 20\n",
      "2 . bhajiya = 30\n",
      "3 . katles = 50\n",
      "4 . jalebi = 80\n",
      "---------------------\n",
      "gst: 18 %\n",
      "gst: 32.4\n",
      "-----------------------\n",
      "mrp: 212.4 /-\n"
     ]
    }
   ],
   "source": [
    "print(\"-------------billings--------------\")\n",
    "size=int(input(\"enter list size:\"))\n",
    "product=[]\n",
    "price=[]\n",
    "\n",
    "for i in range(size):\n",
    "    i = input(\"enter product name:\")\n",
    "    product.append(i)\n",
    "\n",
    "for i in range(size):\n",
    "    i=int(input(\"enter product price:\"))\n",
    "    price.append(i)\n",
    "print('------------------------')\n",
    "yes=input(\"do you want gst [y/n]\")\n",
    "if yes =='y' or yes=='y':\n",
    "    gst=int(input(\"enter gst%\"))\n",
    "    total=0\n",
    "    for i in range (size):\n",
    "        total=total+price[i]\n",
    "        print((i+1),\".\",product[i],'=',price[i])\n",
    "        gstamount=total*gst/100\n",
    "        mrp=gstamount+total\n",
    "    print(\"---------------------\")\n",
    "    print(\"gst:\",gst,\"%\")\n",
    "    print(\"gst:\",gstamount)\n",
    "    print(\"-----------------------\")\n",
    "    print(\"mrp:\",mrp,\"/-\")\n",
    "\n",
    "else:\n",
    "    total=0\n",
    "    for i in range (size):\n",
    "        total=total+price[i]\n",
    "        print((i+1),\".\",product[i],'=',price[i])\n",
    "        print('------------------------')\n",
    "        print(\"complete without gst=\",total)"
   ]
  },
  {
   "cell_type": "code",
   "execution_count": 17,
   "id": "ac45bda8-9517-4c18-8488-377594267844",
   "metadata": {},
   "outputs": [
    {
     "name": "stdin",
     "output_type": "stream",
     "text": [
      " enter product 1 :-  samosa\n",
      "do you want to add more [y/n] y\n",
      "enter product 2 vada\n",
      "do you want to add more [y/n] y\n",
      "enter product 3 pav\n",
      "do you want to add more [y/n] y\n",
      "enter product 4 bhajiya\n",
      "do you want to add more [y/n] n\n",
      "enter samosa price=>  20\n",
      "enter vada price=>  50\n",
      "enter pav price=>  40\n",
      "enter bhajiya price=>  30\n",
      "do you want to add gst [y/n] y\n",
      "enter gst% 18\n"
     ]
    },
    {
     "name": "stdout",
     "output_type": "stream",
     "text": [
      "1 . samosa = 20\n",
      "2 . vada = 50\n",
      "3 . pav = 40\n",
      "4 . bhajiya = 30\n",
      "total amount =>  140\n",
      "gst: 18 %\n",
      "gst amount: 25.2\n",
      "---------------------\n",
      "total amount [include gst] =>  165.2\n"
     ]
    }
   ],
   "source": [
    "product = []\n",
    "price = []\n",
    "i=input(f' enter product 1 :- ')\n",
    "product.append(i)\n",
    "for i in range (10):\n",
    "    select = input('do you want to add more [y/n]')\n",
    "    if select == \"Y\" or select == \"y\":\n",
    "        i=input(f'enter product {i+2}')\n",
    "        product.append(i)\n",
    "    elif select == \"N\" or \"n\":\n",
    "        break\n",
    "size=len(product)\n",
    "for i in range (size):\n",
    "    i=int(input(f'enter {product[i]} price=> '))\n",
    "    price.append(i)\n",
    "\n",
    "\n",
    "yes=input(\"do you want to add gst [y/n]\")\n",
    "if yes==\"y\" or yes==\"y\":\n",
    "    gst=int(input(\"enter gst%\"))\n",
    "    total=0\n",
    "    for i in range(size):\n",
    "        total=total+price[i]\n",
    "        print((i+1),\".\",product[i],'=',price[i])\n",
    "        gstamount=total*gst/100\n",
    "    print(\"total amount => \",total)\n",
    "    print(\"gst:\",gst,\"%\")\n",
    "    print(\"gst amount:\",gstamount)\n",
    "    print(\"---------------------\")\n",
    "    print(\"total amount [include gst] => \",total+gstamount)\n",
    "else:\n",
    "    total=0\n",
    "    for i in range(size):\n",
    "        total=total+price[i]\n",
    "        print((i+1),\".\",product[i],'=',price[i])\n",
    "\n"
   ]
  },
  {
   "cell_type": "code",
   "execution_count": 22,
   "id": "ab478916-bb72-4044-88a6-1caa1190f8c1",
   "metadata": {},
   "outputs": [
    {
     "name": "stdin",
     "output_type": "stream",
     "text": [
      " enter product 1 :-  book\n",
      " Enter book price:- 50\n",
      " Enter book Qty :- 5\n",
      "Do you want to add more products [Y/n] y\n",
      " enter product2 :- pen\n",
      " Enter pen price:- 20\n",
      " Enter pen qty:- 10\n",
      "Do you want to add more products [Y/n] y\n",
      " enter product3 :- pencil\n",
      " Enter pencil price:- 10\n",
      " Enter pencil qty:- 15\n",
      "Do you want to add more products [Y/n] y\n",
      " enter product4 :- bottle\n",
      " Enter bottle price:- 80\n",
      " Enter bottle qty:- 20\n",
      "Do you want to add more products [Y/n] n\n",
      " do you want to add gst [y/n] y\n",
      "enter gst% 18\n"
     ]
    },
    {
     "name": "stdout",
     "output_type": "stream",
     "text": [
      "1 . book = 250\n",
      "2 . pen = 200\n",
      "3 . pencil = 150\n",
      "4 . bottle = 1600\n",
      "----------------bill------------\n",
      "total amount =>  2200\n",
      "gst: 18 %\n",
      "gst amount: 396.0\n",
      "---------------------\n",
      "total amount [include gst] =>  2225.2\n"
     ]
    }
   ],
   "source": [
    "# super advance billing system\n",
    "product = []\n",
    "price = []\n",
    "qty = []\n",
    "i=input(f' enter product 1 :- ')\n",
    "product.append(i)\n",
    "p=int(input(f\" Enter {product[0]} price:-\"))\n",
    "price.append(p)\n",
    "q=int(input(f\" Enter {product[0]} Qty :-\"))\n",
    "qty.append(q)\n",
    "for i in range (100):\n",
    "    select=input(\"Do you want to add more products [Y/n]\")\n",
    "    if select==\"y\" or select==\"y\":\n",
    "        i=input(f\" enter product{i+2} :-\")\n",
    "        product.append(i)\n",
    "        p=int(input(f\" Enter {i} price:-\"))\n",
    "        price.append(p)\n",
    "        q=int(input(f\" Enter {i} qty:-\"))\n",
    "        qty.append(q)\n",
    "    \n",
    "    else:\n",
    "        break\n",
    "size=len(product)\n",
    "yes=input(\" do you want to add gst [y/n]\")\n",
    "if yes==\"y\" or yes==\"Y\":\n",
    "    gst=int(input(\"enter gst%\"))\n",
    "    total=0\n",
    "    for i in range(size):\n",
    "        print((i+1),\".\",product[i],'=',price[i]*qty[i])\n",
    "        total=total+price[i]*qty[i]\n",
    "        gst_amt=total*gst/100\n",
    "    \n",
    "    print(\"----------------bill------------\")\n",
    "    print(\"total amount => \",total)\n",
    "    print(\"gst:\",gst,\"%\")\n",
    "    print(\"gst amount:\",gst_amt)\n",
    "    print(\"---------------------\")\n",
    "    print(\"total amount [include gst] => \",total+gstamount)\n",
    "else:\n",
    "    total=0\n",
    "    for i in range(size):\n",
    "        total=total+price[i]*qty[i]\n",
    "        print((i+1),\".\",product[i],'=',price[i]*qty[i],\":\")"
   ]
  },
  {
   "cell_type": "code",
   "execution_count": null,
   "id": "b30f44e7-b76f-471b-9565-a0d81bbc2cab",
   "metadata": {},
   "outputs": [],
   "source": []
  }
 ],
 "metadata": {
  "kernelspec": {
   "display_name": "Python 3 (ipykernel)",
   "language": "python",
   "name": "python3"
  },
  "language_info": {
   "codemirror_mode": {
    "name": "ipython",
    "version": 3
   },
   "file_extension": ".py",
   "mimetype": "text/x-python",
   "name": "python",
   "nbconvert_exporter": "python",
   "pygments_lexer": "ipython3",
   "version": "3.12.7"
  }
 },
 "nbformat": 4,
 "nbformat_minor": 5
}
