{
 "cells": [
  {
   "cell_type": "code",
   "execution_count": 18,
   "id": "ebba4091-f996-4107-b13e-619adcae2ce7",
   "metadata": {},
   "outputs": [
    {
     "name": "stdout",
     "output_type": "stream",
     "text": [
      "0 ----------thread1---------\n",
      "**********thread2*********** 0\n",
      "1 ----------thread1---------\n",
      "2 ----------thread1---------\n",
      "**********thread2*********** 1\n",
      "3 ----------thread1---------\n",
      "4 ----------thread1---------\n",
      "**********thread2*********** 2\n",
      "**********thread2*********** 3\n",
      "**********thread2*********** 4\n"
     ]
    }
   ],
   "source": [
    "from threading import Thread\n",
    "import time\n",
    "\n",
    "\n",
    "class data1 (Thread):\n",
    "   def run(self):\n",
    "       \n",
    "        for i in range (5):\n",
    "            print(i,'----------thread1---------')\n",
    "            time.sleep(1)\n",
    "\n",
    "class data2 (Thread):\n",
    "    def run(self):\n",
    "        for i in range (5):\n",
    "            print('**********thread2***********',i)\n",
    "            time.sleep(2)\n",
    "\n",
    "obj0 = data1()\n",
    "obj1 = data2()\n",
    "obj0.start()\n",
    "obj1.start()"
   ]
  },
  {
   "cell_type": "code",
   "execution_count": 5,
   "id": "609c3f0d-c479-49e6-9463-c41d46653139",
   "metadata": {},
   "outputs": [
    {
     "name": "stdout",
     "output_type": "stream",
     "text": [
      "task 1 - codes with aftab 0\n",
      "task 2 - codes with pankaj 0\n",
      "task 1 - codes with aftab 1\n",
      "task 1 - codes with aftab 2\n",
      "task 1 - codes with aftab 3\n",
      "task 1 - codes with aftab 4\n",
      "task 2 - codes with pankaj 1\n",
      "task 2 - codes with pankaj 2\n",
      "task 2 - codes with pankaj 3\n",
      "all done!\n"
     ]
    }
   ],
   "source": [
    "import threading\n",
    "import time\n",
    "\n",
    "def task1():\n",
    "    for i in range (5):\n",
    "        print(\"task 1 - codes with aftab\", i)\n",
    "        time.sleep(1)\n",
    "\n",
    "def task2():\n",
    "    for i in range (4):\n",
    "     print(\"task 2 - codes with pankaj\", i)\n",
    "     time.sleep(5)\n",
    "\n",
    "# create thread object.\n",
    "t1 = threading.Thread(target=task1)\n",
    "t2 = threading.Thread(target=task2)\n",
    "\n",
    "#start the threads\n",
    "t1.start()\n",
    "t2.start()\n",
    "\n",
    "# wait for the threads to finish.\n",
    "\n",
    "t1.join()\n",
    "t2.join()\n",
    "\n",
    "print(\"all done!\")"
   ]
  },
  {
   "cell_type": "code",
   "execution_count": 9,
   "id": "9de5c919-b281-440a-9724-b1d0a900a144",
   "metadata": {},
   "outputs": [
    {
     "name": "stdout",
     "output_type": "stream",
     "text": [
      "Single-threaded program started by affuuu.\n",
      "Task 1 started aftab.\n",
      "Task 1 completed aftab.\n",
      "Task 2 started ashvin.\n",
      "Task 2 completed ashvin.\n",
      "Single-threaded program completed by affuuu.\n"
     ]
    }
   ],
   "source": [
    "def task1():\n",
    "    print(\"Task 1 started aftab.\")\n",
    "    time.sleep(2)  # Simulate some time-consuming operation\n",
    "    print(\"Task 1 completed aftab.\")\n",
    "\n",
    "def task2():\n",
    "    print(\"Task 2 started ashvin.\")\n",
    "    time.sleep(1)  # Simulate another operation\n",
    "    print(\"Task 2 completed ashvin.\")\n",
    "\n",
    "def main():\n",
    "    print(\"Single-threaded program started by affuuu.\")\n",
    "    task1()\n",
    "    task2()\n",
    "    print(\"Single-threaded program completed by affuuu.\")\n",
    "\n",
    "if __name__ == \"__main__\":\n",
    "    main()"
   ]
  },
  {
   "cell_type": "code",
   "execution_count": 10,
   "id": "4c9edd5b-757a-4771-b03a-496f3e1d0494",
   "metadata": {},
   "outputs": [
    {
     "name": "stdout",
     "output_type": "stream",
     "text": [
      "Welcome Thread 1 aalam ----  0\n",
      "Welcome Thread 1 aalam ----  1\n",
      "Welcome Thread 1 aalam ----  2\n",
      "Welcome Thread 1 aalam ----  3\n",
      "Welcome Thread 1 aalam ----  4\n",
      "Welcome Thread 1 aalam ----  5\n",
      "Welcome Thread 1 aalam ----  6\n",
      "Welcome Thread 1 aalam ----  7\n",
      "Welcome Thread 1 aalam ----  8\n",
      "Welcome Thread 1 aalam ----  9\n"
     ]
    }
   ],
   "source": [
    "from threading import Thread  \n",
    "import time \n",
    "\n",
    "class threading1():\n",
    "  def run():\n",
    "    for i in range(10):\n",
    "      print('Welcome Thread 1 aalam ---- ',i)\n",
    "      time.sleep(1)\n",
    "\n",
    "obj = threading1\n",
    "obj.run()"
   ]
  },
  {
   "cell_type": "code",
   "execution_count": 11,
   "id": "1620f636-ca84-4e2a-9677-9e6395f83b58",
   "metadata": {},
   "outputs": [
    {
     "name": "stdout",
     "output_type": "stream",
     "text": [
      "Number 1\n",
      "Letter a\n",
      "Number 2\n",
      "Letter f\n",
      "Number 3\n",
      "Letter t\n",
      "Number 4\n",
      "Letter a\n",
      "Number 5\n",
      "Letter b\n",
      "Both threads have finished.\n"
     ]
    }
   ],
   "source": [
    "import threading\n",
    "import time\n",
    "\n",
    "# Define a function that represents a task for a thread\n",
    "def print_numbers():\n",
    "    for i in range(1, 6):\n",
    "        print(f\"Number {i}\")\n",
    "        time.sleep(1)\n",
    "\n",
    "def print_letters():\n",
    "    for letter in 'aftab':\n",
    "        print(f\"Letter {letter}\")\n",
    "        time.sleep(1)\n",
    "\n",
    "# Create two threads\n",
    "thread1 = threading.Thread(target=print_numbers)\n",
    "thread2 = threading.Thread(target=print_letters)\n",
    "\n",
    "# Start the threads\n",
    "thread1.start()\n",
    "thread2.start()\n",
    "\n",
    "# Wait for both threads to finish\n",
    "thread1.join()\n",
    "thread2.join()\n",
    "\n",
    "print(\"Both threads have finished.\")"
   ]
  },
  {
   "cell_type": "code",
   "execution_count": null,
   "id": "e130e572-2eaa-4e11-951c-c03f5b26f117",
   "metadata": {},
   "outputs": [],
   "source": []
  }
 ],
 "metadata": {
  "kernelspec": {
   "display_name": "Python 3 (ipykernel)",
   "language": "python",
   "name": "python3"
  },
  "language_info": {
   "codemirror_mode": {
    "name": "ipython",
    "version": 3
   },
   "file_extension": ".py",
   "mimetype": "text/x-python",
   "name": "python",
   "nbconvert_exporter": "python",
   "pygments_lexer": "ipython3",
   "version": "3.12.7"
  }
 },
 "nbformat": 4,
 "nbformat_minor": 5
}
