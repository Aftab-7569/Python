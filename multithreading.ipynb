{
 "cells": [
  {
   "cell_type": "code",
   "execution_count": 18,
   "id": "ebba4091-f996-4107-b13e-619adcae2ce7",
   "metadata": {},
   "outputs": [
    {
     "name": "stdout",
     "output_type": "stream",
     "text": [
      "0 ----------thread1---------\n",
      "**********thread2*********** 0\n",
      "1 ----------thread1---------\n",
      "2 ----------thread1---------\n",
      "**********thread2*********** 1\n",
      "3 ----------thread1---------\n",
      "4 ----------thread1---------\n",
      "**********thread2*********** 2\n",
      "**********thread2*********** 3\n",
      "**********thread2*********** 4\n"
     ]
    }
   ],
   "source": [
    "from threading import Thread\n",
    "import time\n",
    "\n",
    "\n",
    "class data1 (Thread):\n",
    "   def run(self):\n",
    "       \n",
    "        for i in range (5):\n",
    "            print(i,'----------thread1---------')\n",
    "            time.sleep(1)\n",
    "\n",
    "class data2 (Thread):\n",
    "    def run(self):\n",
    "        for i in range (5):\n",
    "            print('**********thread2***********',i)\n",
    "            time.sleep(2)\n",
    "\n",
    "obj0 = data1()\n",
    "obj1 = data2()\n",
    "obj0.start()\n",
    "obj1.start()"
   ]
  },
  {
   "cell_type": "code",
   "execution_count": null,
   "id": "609c3f0d-c479-49e6-9463-c41d46653139",
   "metadata": {},
   "outputs": [],
   "source": []
  }
 ],
 "metadata": {
  "kernelspec": {
   "display_name": "Python 3 (ipykernel)",
   "language": "python",
   "name": "python3"
  },
  "language_info": {
   "codemirror_mode": {
    "name": "ipython",
    "version": 3
   },
   "file_extension": ".py",
   "mimetype": "text/x-python",
   "name": "python",
   "nbconvert_exporter": "python",
   "pygments_lexer": "ipython3",
   "version": "3.12.7"
  }
 },
 "nbformat": 4,
 "nbformat_minor": 5
}
