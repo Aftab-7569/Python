{
 "cells": [
  {
   "cell_type": "code",
   "execution_count": 4,
   "id": "349801c5-3995-4a18-a4f1-386ae9a91251",
   "metadata": {},
   "outputs": [
    {
     "name": "stdout",
     "output_type": "stream",
     "text": [
      "{'name': 'aftab'}\n"
     ]
    }
   ],
   "source": [
    "# dictionary\n",
    "data={\"name\":\"aftab\"}\n",
    "print(data)\n",
    "      "
   ]
  },
  {
   "cell_type": "code",
   "execution_count": 5,
   "id": "838719d7-874b-4c99-a636-638541576d0b",
   "metadata": {},
   "outputs": [
    {
     "name": "stdout",
     "output_type": "stream",
     "text": [
      "{'name': 'aftab', 'age': 20, 'height': 5.2}\n"
     ]
    }
   ],
   "source": [
    "data={\"name\":\"aftab\",\"age\":20,\"height\":5.2}\n",
    "print(data)"
   ]
  },
  {
   "cell_type": "code",
   "execution_count": 6,
   "id": "f83f9213-e2cf-4af2-9a9d-d11b2babf322",
   "metadata": {},
   "outputs": [
    {
     "name": "stdout",
     "output_type": "stream",
     "text": [
      "aftab\n"
     ]
    }
   ],
   "source": [
    "# access data\n",
    "print(data['name'])"
   ]
  },
  {
   "cell_type": "code",
   "execution_count": 7,
   "id": "657c58b2-d184-4959-acff-e5e5d241585f",
   "metadata": {},
   "outputs": [
    {
     "name": "stdout",
     "output_type": "stream",
     "text": [
      "{'name': 'aftab', 'age': 20, 'height': 5.2, 'city': 'mumbai'}\n"
     ]
    }
   ],
   "source": [
    "data['city']=\"mumbai\"\n",
    "print(data)"
   ]
  },
  {
   "cell_type": "code",
   "execution_count": 8,
   "id": "aa39ca63-9b66-460a-afd6-90245f0fbd46",
   "metadata": {},
   "outputs": [
    {
     "name": "stdout",
     "output_type": "stream",
     "text": [
      "{'name': 'aftab', 'age': 20, 'height': 5.2, 'city': 'mumbai', 'weight': 50}\n"
     ]
    }
   ],
   "source": [
    "data['weight']=50\n",
    "print(data)"
   ]
  },
  {
   "cell_type": "code",
   "execution_count": 9,
   "id": "38db6dca-0838-4d73-a2e4-da27781db2c3",
   "metadata": {},
   "outputs": [
    {
     "name": "stdout",
     "output_type": "stream",
     "text": [
      "name = aftab\n",
      "age = 20\n",
      "height = 5.2\n",
      "city = mumbai\n",
      "weight = 50\n"
     ]
    }
   ],
   "source": [
    "for i in data:\n",
    "    print(i,'=',data[i])"
   ]
  },
  {
   "cell_type": "code",
   "execution_count": null,
   "id": "ff719e00-1514-4b5a-ad1a-c041d17f2742",
   "metadata": {},
   "outputs": [],
   "source": []
  }
 ],
 "metadata": {
  "kernelspec": {
   "display_name": "Python 3 (ipykernel)",
   "language": "python",
   "name": "python3"
  },
  "language_info": {
   "codemirror_mode": {
    "name": "ipython",
    "version": 3
   },
   "file_extension": ".py",
   "mimetype": "text/x-python",
   "name": "python",
   "nbconvert_exporter": "python",
   "pygments_lexer": "ipython3",
   "version": "3.12.7"
  }
 },
 "nbformat": 4,
 "nbformat_minor": 5
}
