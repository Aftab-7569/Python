{
 "cells": [
  {
   "cell_type": "code",
   "execution_count": 19,
   "id": "901d884c-ed34-4236-a650-609e57034bcf",
   "metadata": {},
   "outputs": [],
   "source": [
    "class creditcard:\n",
    "    def __init__(self,cardname,creditlimit,customername):\n",
    "        self.cardname = cardname\n",
    "        self.creditlimit = creditlimit\n",
    "        self.customername = customername\n",
    "\n",
    "    def get_cardname(self):\n",
    "       return self.cardname\n",
    "    def get_creditlimit(self):\n",
    "       return self.creditlimit\n",
    "    def get_customername(self):\n",
    "        return self.customername"
   ]
  },
  {
   "cell_type": "code",
   "execution_count": 20,
   "id": "f1208146-5896-4526-ba48-6ce1aac4931a",
   "metadata": {},
   "outputs": [
    {
     "ename": "SyntaxError",
     "evalue": "invalid syntax (70779260.py, line 1)",
     "output_type": "error",
     "traceback": [
      "\u001b[1;36m  Cell \u001b[1;32mIn[20], line 1\u001b[1;36m\u001b[0m\n\u001b[1;33m    cd = Creditcard(\"sbi\",450000,\"aalam\"):\u001b[0m\n\u001b[1;37m                                         ^\u001b[0m\n\u001b[1;31mSyntaxError\u001b[0m\u001b[1;31m:\u001b[0m invalid syntax\n"
     ]
    }
   ],
   "source": [
    "cd = Creditcard(\"sbi\",450000,\"aalam\")\n",
    "print(f'customer name {cd.get_CustomerName()}')\n",
    "print(f'customer card name {cd.get_CardName()}')\n",
    "print(f'customer creditlimit {cd.get_CreditLimit()}')"
   ]
  },
  {
   "cell_type": "code",
   "execution_count": null,
   "id": "cbd80830-c447-4ea5-9799-37bf48a3577e",
   "metadata": {},
   "outputs": [],
   "source": []
  }
 ],
 "metadata": {
  "kernelspec": {
   "display_name": "Python 3 (ipykernel)",
   "language": "python",
   "name": "python3"
  },
  "language_info": {
   "codemirror_mode": {
    "name": "ipython",
    "version": 3
   },
   "file_extension": ".py",
   "mimetype": "text/x-python",
   "name": "python",
   "nbconvert_exporter": "python",
   "pygments_lexer": "ipython3",
   "version": "3.12.7"
  }
 },
 "nbformat": 4,
 "nbformat_minor": 5
}
