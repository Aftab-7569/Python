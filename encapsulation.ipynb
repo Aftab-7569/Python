{
 "cells": [
  {
   "cell_type": "code",
   "execution_count": 16,
   "id": "901d884c-ed34-4236-a650-609e57034bcf",
   "metadata": {},
   "outputs": [],
   "source": [
    "class creditcard:\n",
    "    def __init__(self,cardname,creditlimit,customername):\n",
    "        self.cardname = cardname\n",
    "        self.creditlimit = creditlimit\n",
    "        self.customername = customername\n",
    "\n",
    "    def get_cardname(self):\n",
    "       return self.cardname\n",
    "    def get_creditlimit(self):\n",
    "       return self.creditlimit\n",
    "    def get_customername(self):\n",
    "        return self.customername"
   ]
  },
  {
   "cell_type": "code",
   "execution_count": 17,
   "id": "f1208146-5896-4526-ba48-6ce1aac4931a",
   "metadata": {},
   "outputs": [
    {
     "name": "stdout",
     "output_type": "stream",
     "text": [
      "customer name affuuu\n",
      "customer card name yes bank\n",
      "customer creditlimit 550000\n"
     ]
    }
   ],
   "source": [
    "cd = creditcard(\"yes bank\",550000,\"affuuu\")\n",
    "print(f'customer name {cd.get_customername()}')\n",
    "print(f'customer card name {cd.get_cardname()}')\n",
    "print(f'customer creditlimit {cd.get_creditlimit()}')"
   ]
  },
  {
   "cell_type": "code",
   "execution_count": 7,
   "id": "7a312736-6c98-47c3-880c-c7cbbdf3592c",
   "metadata": {},
   "outputs": [],
   "source": [
    "class college:\n",
    "    def __init__(self,name,std,rollno):\n",
    "        self.name = name\n",
    "        self.std = std\n",
    "        self.rollno = rollno\n",
    "\n",
    "    def get_studentname(self):\n",
    "        return self.name\n",
    "    def get_studentstd(self):\n",
    "        return self.std\n",
    "    def get_studentrollno(self):\n",
    "        return self.rollno"
   ]
  },
  {
   "cell_type": "code",
   "execution_count": 8,
   "id": "cc95ed5c-35cd-47ef-85bb-7f555044b1b8",
   "metadata": {},
   "outputs": [
    {
     "name": "stdout",
     "output_type": "stream",
     "text": [
      " student name aftab\n",
      " student std 12\n",
      " student rollno 80\n"
     ]
    }
   ],
   "source": [
    "clg = college(\"aftab\",12,80)\n",
    "print(f' student name {clg.get_studentname()}')\n",
    "print(f' student std {clg.get_studentstd()}')\n",
    "print(f' student rollno {clg.get_studentrollno()}')"
   ]
  },
  {
   "cell_type": "code",
   "execution_count": 12,
   "id": "01d524e6-6ff3-4418-b8e8-9f2076669232",
   "metadata": {},
   "outputs": [],
   "source": [
    "class myself:\n",
    "    def __init__(self,name,age,weight,hobbies):\n",
    "        self.name = name\n",
    "        self.age = age\n",
    "        self.weight = weight\n",
    "        self.hobbies = hobbies\n",
    "\n",
    "    def get_myname(self):\n",
    "        return self.name\n",
    "    def get_myage(self):\n",
    "        return self.age\n",
    "    def get_myweight(self):\n",
    "        return self.weight\n",
    "    def get_myhobbies(self):\n",
    "        return self.hobbies"
   ]
  },
  {
   "cell_type": "code",
   "execution_count": 13,
   "id": "f756c8fc-f58c-4f6c-9635-f57ed397fda9",
   "metadata": {},
   "outputs": [
    {
     "name": "stdout",
     "output_type": "stream",
     "text": [
      " my name aftab\n",
      " my age 20\n",
      " my weight 53\n",
      " my hobbies cricket\n"
     ]
    }
   ],
   "source": [
    "myself = myself(\"aftab\",20,53,\"cricket\")\n",
    "print(f' my name {myself.get_myname()}')\n",
    "print(f' my age {myself.get_myage()}')\n",
    "print(f' my weight {myself.get_myweight()}')\n",
    "print(f' my hobbies {myself.get_myhobbies()}')"
   ]
  },
  {
   "cell_type": "code",
   "execution_count": null,
   "id": "372d2471-2629-451b-8017-754186a34aaa",
   "metadata": {},
   "outputs": [],
   "source": []
  }
 ],
 "metadata": {
  "kernelspec": {
   "display_name": "Python 3 (ipykernel)",
   "language": "python",
   "name": "python3"
  },
  "language_info": {
   "codemirror_mode": {
    "name": "ipython",
    "version": 3
   },
   "file_extension": ".py",
   "mimetype": "text/x-python",
   "name": "python",
   "nbconvert_exporter": "python",
   "pygments_lexer": "ipython3",
   "version": "3.12.7"
  }
 },
 "nbformat": 4,
 "nbformat_minor": 5
}
