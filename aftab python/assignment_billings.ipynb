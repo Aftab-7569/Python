{
 "cells": [
  {
   "cell_type": "code",
   "execution_count": 3,
   "id": "13489d9c-9b22-4f33-a2e8-04c35b5f2c8d",
   "metadata": {},
   "outputs": [
    {
     "name": "stdout",
     "output_type": "stream",
     "text": [
      "-------------bill--------------\n"
     ]
    },
    {
     "name": "stdin",
     "output_type": "stream",
     "text": [
      "enter the product of the list: 4\n",
      "enter product item: samosa\n",
      "enter product item: kachori\n",
      "enter product item: fafada\n",
      "enter product item: jalebi\n",
      "enter product price: 20\n",
      "enter product price: 30\n",
      "enter product price: 40\n",
      "enter product price: 50\n"
     ]
    },
    {
     "name": "stdout",
     "output_type": "stream",
     "text": [
      "-------output--------\n",
      "jalebi = 50\n",
      "jalebi = 50\n",
      "jalebi = 50\n",
      "jalebi = 50\n"
     ]
    }
   ],
   "source": [
    "# assignment 1\n",
    "print(\"-------------bill--------------\")\n",
    "size=int(input(\"enter the product of the list:\"))\n",
    "product=[]\n",
    "price=[]\n",
    "for i in range(size):\n",
    "    item = input(\"enter product item:\")\n",
    "    product.append(item)\n",
    "\n",
    "for i in range(size):\n",
    "    cost=int(input(\"enter product price:\"))\n",
    "    price.append(cost)\n",
    "print(\"-------output--------\")\n",
    "for i in product:\n",
    "    print(item,\"=\",cost)"
   ]
  },
  {
   "cell_type": "code",
   "execution_count": null,
   "id": "7bd4de3a-6f3c-4268-98c8-3ab38c9615eb",
   "metadata": {},
   "outputs": [],
   "source": []
  }
 ],
 "metadata": {
  "kernelspec": {
   "display_name": "Python 3 (ipykernel)",
   "language": "python",
   "name": "python3"
  },
  "language_info": {
   "codemirror_mode": {
    "name": "ipython",
    "version": 3
   },
   "file_extension": ".py",
   "mimetype": "text/x-python",
   "name": "python",
   "nbconvert_exporter": "python",
   "pygments_lexer": "ipython3",
   "version": "3.12.7"
  }
 },
 "nbformat": 4,
 "nbformat_minor": 5
}
