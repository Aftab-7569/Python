{
 "cells": [
  {
   "cell_type": "code",
   "execution_count": 4,
   "id": "74a1eacd-65d3-420e-995d-027bfb3e3909",
   "metadata": {},
   "outputs": [
    {
     "name": "stdin",
     "output_type": "stream",
     "text": [
      "enter your name... affuuu\n",
      "enter your age... 20\n",
      "enter your height... 5.2\n"
     ]
    },
    {
     "name": "stdout",
     "output_type": "stream",
     "text": [
      "my name is affuuu,age 20,and height 5.2\n"
     ]
    }
   ],
   "source": [
    "name=input('enter your name...')\n",
    "age=input('enter your age...')\n",
    "height=input('enter your height...')\n",
    "print(f'my name is {name},age {age},and height {height}')"
   ]
  },
  {
   "cell_type": "code",
   "execution_count": 3,
   "id": "e3a30a51-dd5a-43d2-b6e3-9536720b6aea",
   "metadata": {},
   "outputs": [
    {
     "name": "stdin",
     "output_type": "stream",
     "text": [
      "Enter your Name ...  iujh\n",
      "Enter your age ... ijhui\n"
     ]
    },
    {
     "name": "stdout",
     "output_type": "stream",
     "text": [
      "enter the valid details\n"
     ]
    }
   ],
   "source": [
    "try:\n",
    "    name = str(input('Enter your Name ... '))\n",
    "    age = int(input('Enter your age ...'))\n",
    "    height = float(input('enter your height ...'))\n",
    "    \n",
    "    print(f'My name is {name} , age {age} and height {height}')\n",
    "except Exception:\n",
    "    print(\"enter the valid details\")\n",
    "    "
   ]
  },
  {
   "cell_type": "code",
   "execution_count": 2,
   "id": "b2490535-7b44-40e2-bf60-7bf40b26935a",
   "metadata": {},
   "outputs": [
    {
     "name": "stdin",
     "output_type": "stream",
     "text": [
      "Enter your Name ...  aftab\n",
      "Enter your age ... 20\n",
      "enter your height ... 5.2\n",
      "Enter your location ... vasai\n"
     ]
    },
    {
     "name": "stdout",
     "output_type": "stream",
     "text": [
      "My name is aftab , age 20  height 5.2 and location vasai\n"
     ]
    }
   ],
   "source": [
    "try:\n",
    "    name = str(input('Enter your Name ... '))\n",
    "    age = int(input('Enter your age ...'))\n",
    "    height = float(input('enter your height ...'))\n",
    "    location = str(input('Enter your location ...'))\n",
    "    \n",
    "    print(f'My name is {name} , age {age}  height {height} and location {location}')\n",
    "except Exception:\n",
    "    print(\"enter the valid details\")\n",
    "    "
   ]
  },
  {
   "cell_type": "code",
   "execution_count": null,
   "id": "200c4e8d-958b-42c6-a04f-12f7a46444ad",
   "metadata": {},
   "outputs": [],
   "source": []
  }
 ],
 "metadata": {
  "kernelspec": {
   "display_name": "Python 3 (ipykernel)",
   "language": "python",
   "name": "python3"
  },
  "language_info": {
   "codemirror_mode": {
    "name": "ipython",
    "version": 3
   },
   "file_extension": ".py",
   "mimetype": "text/x-python",
   "name": "python",
   "nbconvert_exporter": "python",
   "pygments_lexer": "ipython3",
   "version": "3.12.7"
  }
 },
 "nbformat": 4,
 "nbformat_minor": 5
}
