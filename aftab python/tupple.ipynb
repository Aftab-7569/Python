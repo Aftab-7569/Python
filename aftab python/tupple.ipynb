{
 "cells": [
  {
   "cell_type": "code",
   "execution_count": 1,
   "id": "3f59416c-fec9-4f15-a925-a63f606d4435",
   "metadata": {},
   "outputs": [
    {
     "name": "stdout",
     "output_type": "stream",
     "text": [
      "<class 'tuple'>\n",
      "(1, 2, 3, 4, 5, 6, 7, 8, 9, 9, 9, 9, 9)\n"
     ]
    }
   ],
   "source": [
    "std=(1,2,3,4,5,6,7,8,9,9,9,9,9)\n",
    "print(type(std))\n",
    "print(std)"
   ]
  },
  {
   "cell_type": "code",
   "execution_count": 3,
   "id": "802daa10-d7f5-4f31-b0f3-3f3b4bb968dc",
   "metadata": {},
   "outputs": [
    {
     "name": "stdout",
     "output_type": "stream",
     "text": [
      "(2, 3, 4, 5, 6, 7)\n"
     ]
    }
   ],
   "source": [
    "print(std[1:7])"
   ]
  },
  {
   "cell_type": "code",
   "execution_count": 4,
   "id": "9c216342-c7a7-4fca-9338-37f5e6682caf",
   "metadata": {},
   "outputs": [
    {
     "name": "stdout",
     "output_type": "stream",
     "text": [
      "(1, 2, 3, 4, 5)\n"
     ]
    }
   ],
   "source": [
    "print(std[:5])"
   ]
  },
  {
   "cell_type": "code",
   "execution_count": 5,
   "id": "ba93b26b-0b77-4fd1-be60-64dfc2bae34b",
   "metadata": {},
   "outputs": [
    {
     "name": "stdout",
     "output_type": "stream",
     "text": [
      "(1, 2, 3, 4, 5, 6, 7, 8, 9, 9, 9, 9, 9)\n"
     ]
    }
   ],
   "source": [
    "print(std[:])"
   ]
  },
  {
   "cell_type": "code",
   "execution_count": 7,
   "id": "752de6b2-c594-457d-bd63-aae2152ead1e",
   "metadata": {},
   "outputs": [
    {
     "name": "stdout",
     "output_type": "stream",
     "text": [
      "8\n"
     ]
    }
   ],
   "source": [
    "print(std.index(9))"
   ]
  },
  {
   "cell_type": "code",
   "execution_count": 8,
   "id": "ac717e7c-0c8f-4b49-bc55-af230b1c7eae",
   "metadata": {},
   "outputs": [
    {
     "name": "stdout",
     "output_type": "stream",
     "text": [
      "5\n"
     ]
    }
   ],
   "source": [
    "print(std.count(9))"
   ]
  }
 ],
 "metadata": {
  "kernelspec": {
   "display_name": "Python 3 (ipykernel)",
   "language": "python",
   "name": "python3"
  },
  "language_info": {
   "codemirror_mode": {
    "name": "ipython",
    "version": 3
   },
   "file_extension": ".py",
   "mimetype": "text/x-python",
   "name": "python",
   "nbconvert_exporter": "python",
   "pygments_lexer": "ipython3",
   "version": "3.12.7"
  }
 },
 "nbformat": 4,
 "nbformat_minor": 5
}
