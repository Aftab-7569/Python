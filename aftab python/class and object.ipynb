{
 "cells": [
  {
   "cell_type": "code",
   "execution_count": 6,
   "id": "e6d37e7f-48d7-4e97-b724-543d61677b37",
   "metadata": {},
   "outputs": [],
   "source": [
    "def my_self():\n",
    "    print(\"my name is affuuu.  \"\n",
    "          \"my hobbies is learning.  \"\n",
    "          \"i am attitude boy.  \"\n",
    "          \"i am 20 years old.\")"
   ]
  },
  {
   "cell_type": "code",
   "execution_count": 7,
   "id": "34c03f24-7d57-47f3-82c4-3493616ed40c",
   "metadata": {},
   "outputs": [
    {
     "name": "stdout",
     "output_type": "stream",
     "text": [
      "my name is affuuu.  my hobbies is learning.  i am attitude boy.  i am 20 years old.\n"
     ]
    }
   ],
   "source": [
    "my_self()"
   ]
  },
  {
   "cell_type": "code",
   "execution_count": 9,
   "id": "b7446042-81a5-40ae-9c1b-5eea5cb88983",
   "metadata": {},
   "outputs": [],
   "source": [
    "class intro:\n",
    "    def my_self():\n",
    "     print(\"my name is affuuu.  \"\n",
    "          \"my hobbies is learning.  \"\n",
    "          \"i am attitude boy.  \"\n",
    "          \"i am 20 years old.\")"
   ]
  },
  {
   "cell_type": "code",
   "execution_count": 10,
   "id": "642d45d5-0af5-4f62-9785-e01bd0ea48e2",
   "metadata": {},
   "outputs": [
    {
     "name": "stdout",
     "output_type": "stream",
     "text": [
      "my name is affuuu.  my hobbies is learning.  i am attitude boy.  i am 20 years old.\n"
     ]
    }
   ],
   "source": [
    "my_self()"
   ]
  },
  {
   "cell_type": "code",
   "execution_count": 19,
   "id": "45d04b44-2c99-481b-9c84-360b63f22f61",
   "metadata": {},
   "outputs": [
    {
     "name": "stdout",
     "output_type": "stream",
     "text": [
      "my name is affuuu.  my hobbies is learning.  i am attitude boy.  i am 20 years old.\n"
     ]
    }
   ],
   "source": [
    " obj=intro\n",
    " obj.my_self()"
   ]
  },
  {
   "cell_type": "code",
   "execution_count": 31,
   "id": "6dc7bbc4-1a19-4a1c-8cd2-6915a3bd25e2",
   "metadata": {},
   "outputs": [
    {
     "name": "stdin",
     "output_type": "stream",
     "text": [
      "enter num1 50\n",
      "enter num2 10\n"
     ]
    }
   ],
   "source": [
    "a=int(input(\"enter num1\"))\n",
    "b=int(input(\"enter num2\"))\n",
    "class history:\n",
    "     def add():\n",
    "         print(a+b)\n",
    "     def sub():\n",
    "         print(a-b)\n",
    "     def multiply():\n",
    "         print(a*b)\n",
    "     def divide():\n",
    "         print(a/b)\n",
    "obj=history"
   ]
  },
  {
   "cell_type": "code",
   "execution_count": 35,
   "id": "0623904a-9148-4e55-8e14-dc9cfc1918da",
   "metadata": {},
   "outputs": [
    {
     "name": "stdout",
     "output_type": "stream",
     "text": [
      "60\n"
     ]
    }
   ],
   "source": [
    "obj.add()"
   ]
  },
  {
   "cell_type": "code",
   "execution_count": 36,
   "id": "c660d556-8b64-4587-862f-718c21dc401c",
   "metadata": {},
   "outputs": [
    {
     "name": "stdout",
     "output_type": "stream",
     "text": [
      "40\n"
     ]
    }
   ],
   "source": [
    "obj.sub()"
   ]
  },
  {
   "cell_type": "code",
   "execution_count": 37,
   "id": "425cf67a-070a-4967-b6d7-07fe8c0a78f8",
   "metadata": {},
   "outputs": [
    {
     "name": "stdout",
     "output_type": "stream",
     "text": [
      "500\n"
     ]
    }
   ],
   "source": [
    "obj.multiply()"
   ]
  },
  {
   "cell_type": "code",
   "execution_count": 38,
   "id": "6240f081-2ce9-4fe0-9087-7cd3a0df9410",
   "metadata": {},
   "outputs": [
    {
     "name": "stdout",
     "output_type": "stream",
     "text": [
      "5.0\n"
     ]
    }
   ],
   "source": [
    "obj.divide()"
   ]
  }
 ],
 "metadata": {
  "kernelspec": {
   "display_name": "Python 3 (ipykernel)",
   "language": "python",
   "name": "python3"
  },
  "language_info": {
   "codemirror_mode": {
    "name": "ipython",
    "version": 3
   },
   "file_extension": ".py",
   "mimetype": "text/x-python",
   "name": "python",
   "nbconvert_exporter": "python",
   "pygments_lexer": "ipython3",
   "version": "3.12.7"
  }
 },
 "nbformat": 4,
 "nbformat_minor": 5
}
