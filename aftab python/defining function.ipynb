{
 "cells": [
  {
   "cell_type": "code",
   "execution_count": 1,
   "id": "85049ea7-ec2d-4955-baa0-28ce064c3c3f",
   "metadata": {},
   "outputs": [
    {
     "name": "stdout",
     "output_type": "stream",
     "text": [
      "welcome to codes with aftab\n",
      "this is a basic function\n"
     ]
    }
   ],
   "source": [
    "# function in python\n",
    "# basic function\n",
    "\n",
    "def greet():\n",
    "    print(\"welcome to codes with aftab\")\n",
    "    print(\"this is a basic function\")\n",
    "greet()"
   ]
  },
  {
   "cell_type": "raw",
   "id": "a3f870a4-963e-44e1-9bc7-3059e3867ed6",
   "metadata": {},
   "source": [
    "# calling the function\n",
    "greet()\n",
    "greet()"
   ]
  },
  {
   "cell_type": "code",
   "execution_count": 9,
   "id": "b1934dab-02ba-4274-8c5a-e0bbc1f2f158",
   "metadata": {},
   "outputs": [],
   "source": [
    "# function with parameters (argument)\n",
    "\n",
    "def addition(number1,number2,number3):\n",
    "    result =number1+number2+number3\n",
    "    print(\"result:\",result)\n",
    "    \n",
    "\n",
    "\n"
   ]
  },
  {
   "cell_type": "code",
   "execution_count": 7,
   "id": "b833d04d-e35a-4ced-afff-369187a9baac",
   "metadata": {},
   "outputs": [
    {
     "name": "stdout",
     "output_type": "stream",
     "text": [
      "result: 60\n"
     ]
    }
   ],
   "source": [
    "addition(10,20,30)"
   ]
  },
  {
   "cell_type": "code",
   "execution_count": 16,
   "id": "5b4ecc25-d3b3-4f63-81bd-292a50e3a5aa",
   "metadata": {},
   "outputs": [],
   "source": [
    "# example :\n",
    "\n",
    "def bill(price,tax):\n",
    "    tax_amount=price*tax/100\n",
    "    total=price+tax_amount\n",
    "    print(\"-----bill-----\")\n",
    "    print(\"price:\",price)\n",
    "    print(\"tax:\",tax)\n",
    "    print(\"tax amount:\",tax_amount)\n",
    "    print(\"total:\",total)\n",
    "    \n"
   ]
  },
  {
   "cell_type": "code",
   "execution_count": 17,
   "id": "8effb393-5580-4ff8-be69-11c44f24f1ac",
   "metadata": {},
   "outputs": [
    {
     "name": "stdout",
     "output_type": "stream",
     "text": [
      "-----bill-----\n",
      "price: 1500\n",
      "tax: 19\n",
      "tax amount: 285.0\n",
      "total: 1785.0\n",
      "-----bill-----\n",
      "price: 2000\n",
      "tax: 22\n",
      "tax amount: 440.0\n",
      "total: 2440.0\n",
      "-----bill-----\n",
      "price: 2500\n",
      "tax: 25\n",
      "tax amount: 625.0\n",
      "total: 3125.0\n"
     ]
    }
   ],
   "source": [
    "bill(1500,19)\n",
    "bill(2000,22)\n",
    "bill(2500,25)"
   ]
  },
  {
   "cell_type": "code",
   "execution_count": 18,
   "id": "66e60920-9e2f-4676-be9b-13aeda9dfa4d",
   "metadata": {},
   "outputs": [
    {
     "name": "stdout",
     "output_type": "stream",
     "text": [
      "-----bill-----\n",
      "price: 15000\n",
      "tax: 2500\n",
      "tax amount: 375000.0\n",
      "total: 390000.0\n"
     ]
    }
   ],
   "source": [
    "bill(15000,2500)"
   ]
  },
  {
   "cell_type": "code",
   "execution_count": 44,
   "id": "97553fd2-8bd4-4725-95c4-690ea09886b8",
   "metadata": {},
   "outputs": [
    {
     "name": "stdout",
     "output_type": "stream",
     "text": [
      "result of multiplication is: 600\n"
     ]
    }
   ],
   "source": [
    "# function with return\n",
    "\n",
    "def multiply(number1,number2):\n",
    "    return number1 * number2\n",
    "result = multiply(20,30)\n",
    "print(\"result of multiplication is:\", result)\n"
   ]
  },
  {
   "cell_type": "code",
   "execution_count": 45,
   "id": "9289c244-f125-40d8-8253-491c47bba61d",
   "metadata": {},
   "outputs": [
    {
     "name": "stdout",
     "output_type": "stream",
     "text": [
      "total price before discount is: 2400.0\n",
      "total price after discount is: 2280.0\n"
     ]
    }
   ],
   "source": [
    "def mrp(price,tax):\n",
    "    tax_amount=price*tax/100\n",
    "    total=price+tax_amount\n",
    "    return total\n",
    "    \n",
    "total_price=mrp(2000,20)\n",
    "# before discount\n",
    "print(\"total price before discount is:\",total_price)\n",
    "# add 5% discount\n",
    "total_price-=total_price*0.05\n",
    "print(\"total price after discount is:\",total_price)\n",
    "\n",
    "    "
   ]
  },
  {
   "cell_type": "code",
   "execution_count": 46,
   "id": "78415aab-28fb-4545-9658-7c1c7f710ba2",
   "metadata": {},
   "outputs": [
    {
     "name": "stdout",
     "output_type": "stream",
     "text": [
      "-------invoice bill-------\n",
      "price: 2000\n",
      "tax: 20\n",
      "tax amount: 400.0\n",
      "total price before discount is: 2400.0\n",
      "total price after discount is: 2280.0\n"
     ]
    }
   ],
   "source": [
    "def mrp(price,tax):\n",
    "    tax_amount=price*tax/100\n",
    "    total=price+tax_amount\n",
    "    print(\"-------invoice bill-------\")\n",
    "    print(\"price:\",price)\n",
    "    print(\"tax:\",tax)\n",
    "    print(\"tax amount:\",tax_amount)\n",
    "\n",
    "    return total\n",
    "total_price=mrp(2000,20)\n",
    "# before discount\n",
    "print(\"total price before discount is:\",total_price)\n",
    "# add 5% discount\n",
    "total_price-=total_price*0.05\n",
    "print(\"total price after discount is:\",total_price)\n",
    "\n",
    "    "
   ]
  },
  {
   "cell_type": "code",
   "execution_count": 53,
   "id": "d2862687-2c6c-4bd2-b28e-2b17463efa8f",
   "metadata": {},
   "outputs": [],
   "source": [
    "# list in python\n",
    "\n",
    "#int type list\n",
    "int_list = [1, 2, 3, 4, 5]\n",
    "#float type list\n",
    "float_list = [1.1, 2.2, 3.3, 4.4, 5.5]\n",
    "#string type list\n",
    "fruits_list =( [\"apple\", \"banana\", \"cherry\", \"date\", \"elderberry\"])\n",
    "#mixed type list\n",
    "mixed_list = [1, 2.2, \"three\", \"four\", 5]\n"
   ]
  },
  {
   "cell_type": "code",
   "execution_count": 54,
   "id": "9b9823a4-6244-40cf-a85a-8392fc393000",
   "metadata": {},
   "outputs": [
    {
     "name": "stdout",
     "output_type": "stream",
     "text": [
      "[1, 2, 3, 4, 5]\n"
     ]
    }
   ],
   "source": [
    "print(int_list)"
   ]
  },
  {
   "cell_type": "code",
   "execution_count": 55,
   "id": "eaa0d70e-5ac2-4df9-a68f-a4eaa6a469f4",
   "metadata": {},
   "outputs": [
    {
     "name": "stdout",
     "output_type": "stream",
     "text": [
      "[1.1, 2.2, 3.3, 4.4, 5.5]\n"
     ]
    }
   ],
   "source": [
    "print(float_list)"
   ]
  },
  {
   "cell_type": "code",
   "execution_count": 56,
   "id": "a087a375-39e9-434e-9123-2d8bd84af7b8",
   "metadata": {},
   "outputs": [
    {
     "name": "stdout",
     "output_type": "stream",
     "text": [
      "['apple', 'banana', 'cherry', 'date', 'elderberry']\n"
     ]
    }
   ],
   "source": [
    "print(string_list)"
   ]
  },
  {
   "cell_type": "code",
   "execution_count": 57,
   "id": "3232a06f-68dc-4c8b-9334-360b815d3a9c",
   "metadata": {},
   "outputs": [
    {
     "name": "stdout",
     "output_type": "stream",
     "text": [
      "['apple', 'banana', 'cherry', 'date', 'elderberry']\n"
     ]
    }
   ],
   "source": [
    "print(fruits_list)"
   ]
  },
  {
   "cell_type": "code",
   "execution_count": null,
   "id": "e5f02bbe-2e07-48bf-a4ea-53e2c5c03be9",
   "metadata": {},
   "outputs": [],
   "source": []
  }
 ],
 "metadata": {
  "kernelspec": {
   "display_name": "Python 3 (ipykernel)",
   "language": "python",
   "name": "python3"
  },
  "language_info": {
   "codemirror_mode": {
    "name": "ipython",
    "version": 3
   },
   "file_extension": ".py",
   "mimetype": "text/x-python",
   "name": "python",
   "nbconvert_exporter": "python",
   "pygments_lexer": "ipython3",
   "version": "3.12.7"
  }
 },
 "nbformat": 4,
 "nbformat_minor": 5
}
