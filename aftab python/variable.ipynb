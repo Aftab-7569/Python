{
 "cells": [
  {
   "cell_type": "code",
   "execution_count": 1,
   "id": "7692bd8e",
   "metadata": {},
   "outputs": [
    {
     "name": "stdout",
     "output_type": "stream",
     "text": [
      "'the advertisement'\n",
      "welcome to windows\n"
     ]
    }
   ],
   "source": [
    "print(\"'the advertisement'\")\n",
    "print(\"welcome to windows\")\n"
   ]
  },
  {
   "cell_type": "code",
   "execution_count": 2,
   "id": "5d703a6b",
   "metadata": {},
   "outputs": [
    {
     "name": "stdout",
     "output_type": "stream",
     "text": [
      "13100\n"
     ]
    }
   ],
   "source": [
    "a = 412356\n",
    "b = 578941\n",
    "c = 7899+5421-220\n",
    "\n",
    "print(c)"
   ]
  },
  {
   "cell_type": "code",
   "execution_count": 4,
   "id": "3e2492f8",
   "metadata": {},
   "outputs": [
    {
     "name": "stdout",
     "output_type": "stream",
     "text": [
      "abcdefghijklmnopqrstuvwxyz\n"
     ]
    }
   ],
   "source": [
    "print(\"abcdefghijklmnopqrstuvwxyz\")"
   ]
  },
  {
   "cell_type": "code",
   "execution_count": 5,
   "id": "e0c3f288",
   "metadata": {},
   "outputs": [
    {
     "name": "stdout",
     "output_type": "stream",
     "text": [
      "abcdefghijklmnopqrstuvwxyz\n"
     ]
    }
   ],
   "source": [
    "print(\"abcdefghijklmnopqrstuvwxyz\")"
   ]
  },
  {
   "cell_type": "code",
   "execution_count": 6,
   "id": "d5cad3bc",
   "metadata": {},
   "outputs": [
    {
     "name": "stdout",
     "output_type": "stream",
     "text": [
      "abcdefghijklmnopqrstuvwxyz\n"
     ]
    }
   ],
   "source": [
    "print(\"abcdefghijklmnopqrstuvwxyz\")"
   ]
  },
  {
   "cell_type": "code",
   "execution_count": null,
   "id": "85009cbe",
   "metadata": {},
   "outputs": [
    {
     "name": "stdout",
     "output_type": "stream",
     "text": [
      "abcdefghijklmnopqrsttuvwxyz\n"
     ]
    }
   ],
   "source": [
    "print(\"abcdefghijklmnopqrsttuvwxyz\")"
   ]
  },
  {
   "cell_type": "code",
   "execution_count": 8,
   "id": "a087de92",
   "metadata": {},
   "outputs": [
    {
     "name": "stdout",
     "output_type": "stream",
     "text": [
      "abcdefghijklmnopqrstuvwxyz\n"
     ]
    }
   ],
   "source": [
    "print(\"abcdefghijklmnopqrstuvwxyz\")"
   ]
  },
  {
   "cell_type": "code",
   "execution_count": null,
   "id": "0b660f38",
   "metadata": {},
   "outputs": [
    {
     "name": "stdout",
     "output_type": "stream",
     "text": [
      "abcdefghijklmnopqrstuvwxyz\n",
      "abcdefghijklmnopqrstuvwxyz\n",
      "abcdefghijklmnopqrstuvwxyz\n",
      "abcdefghijklmnopqrstuvwxyz\n"
     ]
    }
   ],
   "source": [
    "print(\"abcdefghijklmnopqrstuvwxyz\")\n",
    "print(\"abcdefghijklmnopqrstuvwxyz\")\n",
    "print(\"abcdefghijklmnopqrstuvwxyz\")\n",
    "print(\"abcdefghijklmnopqrstuvwxyz\")"
   ]
  },
  {
   "cell_type": "code",
   "execution_count": 10,
   "id": "47febd28",
   "metadata": {},
   "outputs": [
    {
     "name": "stdout",
     "output_type": "stream",
     "text": [
      "1234587962145\n"
     ]
    }
   ],
   "source": [
    "print(\"1234587962145\")"
   ]
  },
  {
   "cell_type": "code",
   "execution_count": 13,
   "id": "a780c9f9",
   "metadata": {},
   "outputs": [
    {
     "name": "stdout",
     "output_type": "stream",
     "text": [
      "6620929661\n"
     ]
    }
   ],
   "source": [
    "print(45689*145687+458412-7854*4561)"
   ]
  },
  {
   "cell_type": "code",
   "execution_count": 14,
   "id": "b17d5925",
   "metadata": {},
   "outputs": [
    {
     "name": "stdout",
     "output_type": "stream",
     "text": [
      "55.00000000000001\n"
     ]
    }
   ],
   "source": [
    "print(330/600*100)"
   ]
  },
  {
   "cell_type": "code",
   "execution_count": 15,
   "id": "811b68bb",
   "metadata": {},
   "outputs": [
    {
     "name": "stdout",
     "output_type": "stream",
     "text": [
      "61.83333333333333\n",
      "57.833333333333336\n"
     ]
    }
   ],
   "source": [
    "print(371/600*100)\n",
    "print(347/600*100)"
   ]
  },
  {
   "cell_type": "code",
   "execution_count": 18,
   "id": "f408a9de",
   "metadata": {},
   "outputs": [
    {
     "name": "stdout",
     "output_type": "stream",
     "text": [
      "406552 5126 337 3.8866995073891624\n"
     ]
    }
   ],
   "source": [
    "a = 4568*89\n",
    "b = 4896+230\n",
    "c = 789-452\n",
    "d = 789/203\n",
    "print(a,b,c,d)"
   ]
  },
  {
   "cell_type": "code",
   "execution_count": 28,
   "id": "d0ba69a1",
   "metadata": {},
   "outputs": [
    {
     "name": "stdout",
     "output_type": "stream",
     "text": [
      "aftab number= 330\n"
     ]
    }
   ],
   "source": [
    "raj=371\n",
    "ashvin=347\n",
    "aftab=330\n",
    "print(\"aftab number=\",aftab)"
   ]
  },
  {
   "cell_type": "code",
   "execution_count": 30,
   "id": "02747eff",
   "metadata": {},
   "outputs": [
    {
     "name": "stdout",
     "output_type": "stream",
     "text": [
      "raj number: 371\n"
     ]
    }
   ],
   "source": [
    "print(\"raj number:\",raj)"
   ]
  },
  {
   "cell_type": "code",
   "execution_count": 31,
   "id": "b83270ba",
   "metadata": {},
   "outputs": [
    {
     "name": "stdout",
     "output_type": "stream",
     "text": [
      "<class 'int'>\n"
     ]
    }
   ],
   "source": [
    "print(type(aftab))"
   ]
  },
  {
   "cell_type": "code",
   "execution_count": 32,
   "id": "a1bc7501",
   "metadata": {},
   "outputs": [
    {
     "name": "stdout",
     "output_type": "stream",
     "text": [
      "[20, 30, 40, 50]\n",
      "[20, 40, 50]\n",
      "[20, 40]\n"
     ]
    }
   ],
   "source": [
    "a= [10,20,30,40,50]\n",
    "for i in a:\n",
    "    a.remove(i)\n",
    "    print(a)"
   ]
  },
  {
   "cell_type": "code",
   "execution_count": 33,
   "id": "e5e1c163",
   "metadata": {},
   "outputs": [
    {
     "name": "stdout",
     "output_type": "stream",
     "text": [
      "120\n"
     ]
    }
   ],
   "source": [
    "def factorial(n):\n",
    "    if n==0:\n",
    "        return 1\n",
    "    return n * factorial(n-1)\n",
    "print(factorial(5))"
   ]
  },
  {
   "cell_type": "code",
   "execution_count": 44,
   "id": "d1770e86",
   "metadata": {},
   "outputs": [
    {
     "name": "stdout",
     "output_type": "stream",
     "text": [
      "<built-in function sum>\n"
     ]
    }
   ],
   "source": [
    "a=[1,2,3,4,5]\n",
    "if sum==0:\n",
    "    for ele in a:\n",
    "        sum +=ele\n",
    "print(sum)"
   ]
  },
  {
   "cell_type": "code",
   "execution_count": 1,
   "id": "cdddd698",
   "metadata": {},
   "outputs": [
    {
     "name": "stdout",
     "output_type": "stream",
     "text": [
      "10\n"
     ]
    }
   ],
   "source": [
    "data = 10\n",
    "print(data)"
   ]
  },
  {
   "cell_type": "code",
   "execution_count": 2,
   "id": "506a601d",
   "metadata": {},
   "outputs": [
    {
     "name": "stdout",
     "output_type": "stream",
     "text": [
      "hello\n"
     ]
    }
   ],
   "source": [
    "a=\"joy\"\n",
    "b=\"hello\"\n",
    "print(b)"
   ]
  },
  {
   "cell_type": "code",
   "execution_count": 3,
   "id": "bc12024f",
   "metadata": {},
   "outputs": [
    {
     "name": "stdout",
     "output_type": "stream",
     "text": [
      "{26, 45, 78, 23}\n"
     ]
    }
   ],
   "source": [
    "data={23,45,78,26}\n",
    "print(data)\n"
   ]
  },
  {
   "cell_type": "code",
   "execution_count": 4,
   "id": "f6d7b525",
   "metadata": {},
   "outputs": [
    {
     "name": "stdout",
     "output_type": "stream",
     "text": [
      "<class 'set'>\n",
      "<class 'set'>\n",
      "<class 'set'>\n"
     ]
    }
   ],
   "source": [
    "a={12,56,23,89}\n",
    "print(type(data))\n",
    "b=\"codes with aftab\"\n",
    "print(type(data))\n",
    "c=44.459\n",
    "print(type(data))"
   ]
  },
  {
   "cell_type": "code",
   "execution_count": 6,
   "id": "f69b3226",
   "metadata": {},
   "outputs": [
    {
     "name": "stdout",
     "output_type": "stream",
     "text": [
      "<class 'float'>\n",
      "<class 'set'>\n",
      "<class 'set'>\n",
      "<class 'tuple'>\n",
      "<class 'tuple'>\n",
      "{1794}\n"
     ]
    }
   ],
   "source": [
    "data=5.6\n",
    "print(type(data))\n",
    "data=\"joy\"\n",
    "data={23,89,45,46}\n",
    "print(type(data))\n",
    "print(type(data))\n",
    "data=(23,89,45,20)\n",
    "print(type(data))\n",
    "data=23,78,56,89\n",
    "print(type(data))\n",
    "\n",
    "data={78*23}\n",
    "print(data)"
   ]
  },
  {
   "cell_type": "code",
   "execution_count": 13,
   "id": "f75a6da8",
   "metadata": {},
   "outputs": [
    {
     "name": "stdout",
     "output_type": "stream",
     "text": [
      "<class 'dict'>\n"
     ]
    }
   ],
   "source": [
    "data={\"name\":\"raj\"}\n",
    "\n",
    " \n",
    "print(type(data))      "
   ]
  },
  {
   "cell_type": "code",
   "execution_count": 15,
   "id": "a8ffa959",
   "metadata": {},
   "outputs": [
    {
     "name": "stdout",
     "output_type": "stream",
     "text": [
      "your nameis aftab \n",
      "your age is 5.5\n",
      "your age is 20\n",
      "your location is vasai\n"
     ]
    }
   ],
   "source": [
    "# how to take user input\n",
    "# input()\n",
    "\n",
    "name=input(\"enter your name\")\n",
    "height=input(\"enter your height\")\n",
    "age=input(\"enter your age\")\n",
    "location=input(\"enter your location\")\n",
    "\n",
    "print(\"your nameis\",name)\n",
    "print(\"your age is\",height)\n",
    "print(\"your age is\",age)\n",
    "print(\"your location is\",location)"
   ]
  },
  {
   "cell_type": "code",
   "execution_count": null,
   "id": "4a5182a1",
   "metadata": {},
   "outputs": [
    {
     "name": "stdout",
     "output_type": "stream",
     "text": [
      "eng: 56\n",
      "maths: 80\n",
      "history: 69\n",
      "science: 59\n",
      "total marks is: 264\n"
     ]
    }
   ],
   "source": [
    "#  type conversion\n",
    "# int()\n",
    "# float()\n",
    "# str()\n",
    "\n",
    "name=input(\"enter name\")\n",
    "eng=int(input(\"enter eng marks\"))\n",
    "maths=int(input(\"enter  maths marks\"))\n",
    "history=int(input(\"enter history marks\"))\n",
    "science=int(input(\"enter science marks\"))\n",
    "total=eng+maths+history+science\n",
    "\n",
    "print(\"eng:\",eng)\n",
    "print(\"maths:\",maths)\n",
    "print(\"history:\",history)\n",
    "print(\"science:\",science)\n",
    "print(\"total marks is:\",total)"
   ]
  },
  {
   "cell_type": "code",
   "execution_count": 22,
   "id": "e3c07134",
   "metadata": {},
   "outputs": [
    {
     "name": "stdout",
     "output_type": "stream",
     "text": [
      "employee name: aftab\n",
      "basic: 18000\n",
      "da: 2000\n",
      "pf: 3000\n",
      "health allowance: 1000\n",
      "total salary is: 24000\n"
     ]
    }
   ],
   "source": [
    "\n",
    "name=input(\"employee name\")\n",
    "basic=int(input(\"enter basic\"))\n",
    "da=int(input(\"enter da\"))\n",
    "health_allowance=int(input(\"enter health allowance\"))\n",
    "pf=int(input(\"enter pf\"))\n",
    "total =basic+da+health_allowance+pf\n",
    "\n",
    "print(\"employee name:\",name)\n",
    "print(\"basic:\",basic)\n",
    "print(\"da:\",da)\n",
    "print(\"pf:\",pf)\n",
    "print(\"health allowance:\",health_allowance)\n",
    "print(\"total salary is:\",total)"
   ]
  },
  {
   "cell_type": "code",
   "execution_count": 4,
   "id": "e0dc69f2",
   "metadata": {},
   "outputs": [
    {
     "name": "stdout",
     "output_type": "stream",
     "text": [
      "your name is: altaf\n",
      "eng: 56\n",
      "maths: 80\n",
      "history: 69\n",
      "science: 72\n",
      "total masrks is: 277\n"
     ]
    }
   ],
   "source": [
    "\n",
    "name=input(\"enter name\")\n",
    "eng=int(input(\"enter eng marks\"))\n",
    "maths=int(input(\"enter  maths marks\"))\n",
    "history=int(input(\"enter history marks\"))\n",
    "science=int(input(\"enter science marks\"))\n",
    "total=eng+maths+history+science\n",
    "print(\"your name is:\",name)\n",
    "print(\"eng:\",eng)\n",
    "print(\"maths:\",maths)\n",
    "print(\"history:\",history)\n",
    "print(\"science:\",science)\n",
    "print(\"total masrks is:\",total)"
   ]
  },
  {
   "cell_type": "code",
   "execution_count": 5,
   "id": "7e3b0ea4",
   "metadata": {},
   "outputs": [
    {
     "name": "stdout",
     "output_type": "stream",
     "text": [
      "employee name: raj\n",
      "basic: 20000\n",
      "da: 2000\n",
      "health_allowance: 1000\n",
      "gross_salary: 23000\n",
      "pf: 2000\n",
      "net_salary: 21000\n"
     ]
    }
   ],
   "source": [
    "name=input(\"employee name\")\n",
    "basic=int(input(\"enter basic\"))\n",
    "da=int(input(\"enter da\"))\n",
    "health_allowance=int(input(\"enter health_allowance\"))\n",
    "gross_salary=basic+da+health_allowance\n",
    "pf=int(input(\"enter pf\"))\n",
    "net_salary=basic+da+health_allowance-pf\n",
    "\n",
    "print(\"employee name:\",name)\n",
    "print(\"basic:\",basic)\n",
    "print(\"da:\",da)\n",
    "print(\"health_allowance:\",health_allowance)\n",
    "print(\"gross_salary:\",gross_salary)\n",
    "print(\"pf:\",pf)\n",
    "print(\"net_salary:\",net_salary)\n"
   ]
  },
  {
   "cell_type": "code",
   "execution_count": 6,
   "id": "a1f7ba61",
   "metadata": {},
   "outputs": [
    {
     "name": "stdout",
     "output_type": "stream",
     "text": [
      "employee name: affuuu\n",
      "employee_id: 102\n",
      "date_of_join: 02/07/2025\n",
      "basic: 25000\n",
      "da: 2000\n",
      "health_allowance: 1000\n",
      "gross_salary: 28000\n",
      "pf: 2000\n",
      "net_salary: 26000\n"
     ]
    }
   ],
   "source": [
    "name=input(\"employee name\")\n",
    "employee_id=int(input(\"enter emplyee_id\"))\n",
    "date_of_join=(input(\"enter date_of_join\"))\n",
    "basic=int(input(\"enter basic\"))\n",
    "da=int(input(\"enter da\"))\n",
    "health_allowance=int(input(\"enter health_allowance\"))\n",
    "gross_salary=basic+da+health_allowance\n",
    "pf=int(input(\"enter pf\"))\n",
    "net_salary=basic+da+health_allowance-pf\n",
    "\n",
    "\n",
    "print(\"employee name:\",name)\n",
    "print(\"employee_id:\",employee_id)\n",
    "print(\"date_of_join:\",date_of_join)\n",
    "print(\"basic:\",basic)\n",
    "print(\"da:\",da)\n",
    "print(\"health_allowance:\",health_allowance)\n",
    "print(\"gross_salary:\",gross_salary)\n",
    "print(\"pf:\",pf)\n",
    "print(\"net_salary:\",net_salary)"
   ]
  }
 ],
 "metadata": {
  "kernelspec": {
   "display_name": "base",
   "language": "python",
   "name": "python3"
  },
  "language_info": {
   "codemirror_mode": {
    "name": "ipython",
    "version": 3
   },
   "file_extension": ".py",
   "mimetype": "text/x-python",
   "name": "python",
   "nbconvert_exporter": "python",
   "pygments_lexer": "ipython3",
   "version": "3.12.7"
  }
 },
 "nbformat": 4,
 "nbformat_minor": 5
}
