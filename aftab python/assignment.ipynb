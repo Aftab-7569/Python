{
 "cells": [
  {
   "cell_type": "code",
   "execution_count": 6,
   "id": "1628da1b",
   "metadata": {},
   "outputs": [
    {
     "name": "stdout",
     "output_type": "stream",
     "text": [
      "the num of natural numbers is: 55\n"
     ]
    }
   ],
   "source": [
    "# Write a Program to Calculate the Sum of Natural Numbers ?\n",
    "\n",
    "start=int(input(\"enter start number\"))\n",
    "end=int(input(\"enter end number\"))\n",
    "sum=0\n",
    "\n",
    "for i in range(start,end):\n",
    "    sum += i\n",
    "print(\"the num of natural numbers is:\",sum)"
   ]
  },
  {
   "cell_type": "code",
   "execution_count": 9,
   "id": "f4783322",
   "metadata": {},
   "outputs": [
    {
     "name": "stdout",
     "output_type": "stream",
     "text": [
      "5 x 1 = 5\n",
      "5 x 2 = 10\n",
      "5 x 3 = 15\n",
      "5 x 4 = 20\n",
      "5 x 5 = 25\n",
      "5 x 6 = 30\n",
      "5 x 7 = 35\n",
      "5 x 8 = 40\n",
      "5 x 9 = 45\n",
      "5 x 10 = 50\n"
     ]
    }
   ],
   "source": [
    "# Write a Program to Generate Multiplication Table ?\n",
    "\n",
    "number=int(input(\"enter number\"))\n",
    "for i in range(1,11):\n",
    "    print(number,\"x\",i,\"=\",i*number)\n"
   ]
  },
  {
   "cell_type": "code",
   "execution_count": 2,
   "id": "487c9240",
   "metadata": {},
   "outputs": [
    {
     "name": "stdout",
     "output_type": "stream",
     "text": [
      "the count of alphabets: 8\n"
     ]
    }
   ],
   "source": [
    "# Write a Program to Display count of Alphabets in to String ?\n",
    "\n",
    "word = input(\"enter the word\")\n",
    "print(\"the count of alphabets:\",len(word))"
   ]
  },
  {
   "cell_type": "code",
   "execution_count": 4,
   "id": "3d65e83b",
   "metadata": {},
   "outputs": [
    {
     "name": "stdout",
     "output_type": "stream",
     "text": [
      "the count of digit: 2\n"
     ]
    }
   ],
   "source": [
    "# Write a  Program to Count Number of Digits in an Integer\n",
    "\n",
    "number = int(input(\"enter your number\"))\n",
    "number=str(number)\n",
    "print(\"the count of digit:\",len(number))\n",
    "\n"
   ]
  }
 ],
 "metadata": {
  "kernelspec": {
   "display_name": "Python 3 (ipykernel)",
   "language": "python",
   "name": "python3"
  },
  "language_info": {
   "codemirror_mode": {
    "name": "ipython",
    "version": 3
   },
   "file_extension": ".py",
   "mimetype": "text/x-python",
   "name": "python",
   "nbconvert_exporter": "python",
   "pygments_lexer": "ipython3",
   "version": "3.12.7"
  }
 },
 "nbformat": 4,
 "nbformat_minor": 5
}
