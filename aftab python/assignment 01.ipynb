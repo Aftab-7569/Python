{
 "cells": [
  {
   "cell_type": "code",
   "execution_count": 5,
   "id": "9973a3a2",
   "metadata": {},
   "outputs": [
    {
     "name": "stdout",
     "output_type": "stream",
     "text": [
      "addition: 101\n",
      "subtracton: 11\n",
      "multiplication: 2520\n",
      "division: 1.2444444444444445\n"
     ]
    }
   ],
   "source": [
    "#1. basic arithmetic operators\n",
    "# Write a Python script that declares two variables, num1 and num2, assigns them with integer values, and then performs basic arithmetic operations such as addition, subtraction, multiplication, and division using these variables.\n",
    "\n",
    "num1=int(input(\"enter num1\"))\n",
    "num2=int(input(\"enter num2\"))\n",
    "print(\"addition:\", num1+num2)\n",
    "print(\"subtracton:\", num1-num2)\n",
    "print(\"multiplication:\",num1*num2)\n",
    "print(\"division:\",num1/num2)\n"
   ]
  },
  {
   "cell_type": "code",
   "execution_count": 8,
   "id": "19141cd7",
   "metadata": {},
   "outputs": [
    {
     "name": "stdout",
     "output_type": "stream",
     "text": [
      "result 68.0\n"
     ]
    }
   ],
   "source": [
    "#2. temperature converter\n",
    "#Create a Python program that prompts the user to enter a temperature in Celsius, stores it in a variable, and then converts it to Fahrenheit using the formula (Celsius * 9/5) + 32. Display the result.\n",
    "\n",
    "temperature=int(input(\"enter temperature celsius\"))\n",
    "\n",
    "result=(temperature * 9/5)+32\n",
    "print(\"result\",result)"
   ]
  },
  {
   "cell_type": "code",
   "execution_count": 14,
   "id": "864abef0",
   "metadata": {},
   "outputs": [
    {
     "name": "stdout",
     "output_type": "stream",
     "text": [
      "full_name: aftab aalam\n"
     ]
    }
   ],
   "source": [
    "# 3. String Concatenation\n",
    "# Write a Python script that declares two string variables and concatenates them together. Prompt the user to enter their first name and last name separately, then concatenate them and print out the full name.\n",
    "\n",
    "first_name=(input(\"enter first name\"))\n",
    "last_name=(input(\"enter last name\"))\n",
    "full_name=first_name+\" \"+last_name\n",
    "print(\"full_name:\",full_name)"
   ]
  },
  {
   "cell_type": "code",
   "execution_count": 17,
   "id": "7973fefb",
   "metadata": {},
   "outputs": [
    {
     "name": "stdout",
     "output_type": "stream",
     "text": [
      "bmi: 1.923076923076923\n"
     ]
    }
   ],
   "source": [
    "# 4. BMI Calculator\n",
    "# Develop a Python program that calculates Body Mass Index (BMI). Prompt the user to enter their weight in kilograms and height in meters. Calculate BMI using the formula BMI = weight / (height * height). Print out the BMI.\n",
    "\n",
    "weight=int(input(\"enter weight\"))\n",
    "height=float(input(\"enter height\"))\n",
    "bmi = weight / (height * height)\n",
    "print(\"bmi:\",bmi)"
   ]
  },
  {
   "cell_type": "code",
   "execution_count": 19,
   "id": "cb849011",
   "metadata": {},
   "outputs": [
    {
     "name": "stdout",
     "output_type": "stream",
     "text": [
      "area: 11.700000000000001\n"
     ]
    }
   ],
   "source": [
    "# 5. Area of a Triangle\n",
    "# Write a Python program that calculates the area of a triangle. Prompt the user to enter the base and height of the triangle. Use the formula Area = (base * height) / 2 and display the result\n",
    "\n",
    "base=float(input(\"enter base\"))\n",
    "height=float(input(\"enter height\"))\n",
    "Area = (base * height) / 2\n",
    "print(\"area:\",Area)"
   ]
  },
  {
   "cell_type": "code",
   "execution_count": 22,
   "id": "75a004cf",
   "metadata": {},
   "outputs": [
    {
     "name": "stdout",
     "output_type": "stream",
     "text": [
      "result: 22\n"
     ]
    }
   ],
   "source": [
    "# 6. Age Calculator\n",
    "# Create a Python script that prompts the user to enter their birth year and stores it in a variable. Calculate the user's age based on the current year and print out the result.\n",
    "\n",
    "current_year=int(input(\"enter birth year\"))\n",
    "birth_year=int(input(\"enter current year\"))\n",
    "result=current_year-birth_year\n",
    "print(\"result:\",result)\n",
    "\n"
   ]
  },
  {
   "cell_type": "code",
   "execution_count": 23,
   "id": "38ef991b",
   "metadata": {},
   "outputs": [
    {
     "name": "stdout",
     "output_type": "stream",
     "text": [
      "this is odd\n"
     ]
    }
   ],
   "source": [
    "# 7. Even or Odd\n",
    "# Write a Python program that prompts the user to enter an integer and checks whether it's even or odd. Print out the result.\n",
    "\n",
    "number=int(input(\"enter number\"))\n",
    "if number % 2==0:\n",
    "    print(\"this is even\")\n",
    "else:\n",
    "    print(\"this is odd\") "
   ]
  },
  {
   "cell_type": "code",
   "execution_count": 24,
   "id": "e33cbeb3",
   "metadata": {},
   "outputs": [
    {
     "name": "stdout",
     "output_type": "stream",
     "text": [
      "average: 68.0\n",
      "your grade is D\n"
     ]
    }
   ],
   "source": [
    "# 8. Grade Calculator\n",
    "# Develop a Python script that takes in the scores of three tests (out of 100) and stores them in variables. Calculate the average score and print it out. Then, based on the average score, assign a letter grade (A, B, C, D, or F) and print it out.\n",
    "\n",
    "test1=int(input(\"enter the score\"))\n",
    "test2=int(input(\"enter the score\"))\n",
    "test3=int(input(\"enter the score\"))\n",
    "average=test1+test2+test3/3\n",
    "print(\"average:\",average)\n",
    "if average>=90:\n",
    "    print(\"your grade is A\")\n",
    "elif average>=80:\n",
    "    print(\"your grade is B\")\n",
    "elif average>=70:\n",
    "    print(\"your grade is C\")\n",
    "elif average>=60:\n",
    "    print(\"your grade is D\")\n",
    "else:\n",
    "    print(\"your grade is f\")"
   ]
  },
  {
   "cell_type": "code",
   "execution_count": 26,
   "id": "aab0bdd1",
   "metadata": {},
   "outputs": [
    {
     "name": "stdout",
     "output_type": "stream",
     "text": [
      "simple interest: 100000.0\n"
     ]
    }
   ],
   "source": [
    "# 9. Simple Interest Calculator\n",
    "# Create a Python program that calculates simple interest. Prompt the user to enter principal amount, rate of interest, and time (in years). Calculate simple interest using the formula Simple Interest = (principal * rate * time) / 100 and display the result.\n",
    "\n",
    "principal_amount=int(input(\"enter principal amount\"))\n",
    "rate_of_interest=int(input(\"enter rate of interest\"))\n",
    "time=int(input(\"enter time in years\"))\n",
    "Simple_Interest = (principal_amount* rate_of_interest * time) / 100\n",
    "print(\"simple interest:\",Simple_Interest)"
   ]
  },
  {
   "cell_type": "code",
   "execution_count": null,
   "id": "7e42a0d5",
   "metadata": {},
   "outputs": [],
   "source": [
    "# 10. Quadratic Equation Solver\n",
    "# Write a Python script that solves a quadratic equation. Prompt the user to enter the coefficients a, b, and c of the quadratic equation ax^2 + bx + c = 0. Calculate the roots of the equation using the quadratic formula and print out the results. Make sure to handle cases where the discriminant is negative.\n",
    "\n"
   ]
  }
 ],
 "metadata": {
  "kernelspec": {
   "display_name": "base",
   "language": "python",
   "name": "python3"
  },
  "language_info": {
   "codemirror_mode": {
    "name": "ipython",
    "version": 3
   },
   "file_extension": ".py",
   "mimetype": "text/x-python",
   "name": "python",
   "nbconvert_exporter": "python",
   "pygments_lexer": "ipython3",
   "version": "3.12.7"
  }
 },
 "nbformat": 4,
 "nbformat_minor": 5
}
