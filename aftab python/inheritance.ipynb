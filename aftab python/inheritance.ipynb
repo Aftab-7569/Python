{
 "cells": [
  {
   "cell_type": "code",
   "execution_count": 1,
   "id": "0fa749cc-5228-4971-9e87-4df847d88a5d",
   "metadata": {},
   "outputs": [],
   "source": [
    "class client:\n",
    "    def client_info():\n",
    "        print(\"client name : aftab\")"
   ]
  },
  {
   "cell_type": "code",
   "execution_count": 5,
   "id": "be3f7b48-5a58-42d8-be0b-b8d9d569a944",
   "metadata": {},
   "outputs": [],
   "source": [
    "class product (client):\n",
    "    def product_info():\n",
    "        print(\"product info - pen,pencil,books\")"
   ]
  },
  {
   "cell_type": "code",
   "execution_count": 6,
   "id": "f934ef9d-9fdb-4f70-8935-35969aa26f08",
   "metadata": {},
   "outputs": [
    {
     "name": "stdout",
     "output_type": "stream",
     "text": [
      "client name : aftab\n",
      "product info - pen,pencil,books\n"
     ]
    }
   ],
   "source": [
    "object = product\n",
    "object.client_info()\n",
    "object.product_info()"
   ]
  },
  {
   "cell_type": "code",
   "execution_count": 1,
   "id": "f729d384-dc27-49ed-bc56-7b7cd0c1a26b",
   "metadata": {},
   "outputs": [],
   "source": [
    "class client:\n",
    "    def client_info():\n",
    "        print(\"client name : aalam\")"
   ]
  },
  {
   "cell_type": "code",
   "execution_count": 2,
   "id": "7c1164ad-0e28-4ed3-a6bb-29fc833d5f6c",
   "metadata": {},
   "outputs": [],
   "source": [
    "class product (client):\n",
    "    def product_info():\n",
    "        print(\"product info -: samosa,jalebi.fafada.bhajiya\")"
   ]
  },
  {
   "cell_type": "code",
   "execution_count": 3,
   "id": "8c97c465-6866-451d-9e4d-2b0cd65e2eed",
   "metadata": {},
   "outputs": [
    {
     "name": "stdout",
     "output_type": "stream",
     "text": [
      "client name : aalam\n",
      "product info -: samosa,jalebi.fafada.bhajiya\n"
     ]
    }
   ],
   "source": [
    "object = product\n",
    "object.client_info()\n",
    "object.product_info()"
   ]
  },
  {
   "cell_type": "code",
   "execution_count": null,
   "id": "a44b236d-71b7-4f1f-b79e-12a949b833aa",
   "metadata": {},
   "outputs": [],
   "source": []
  }
 ],
 "metadata": {
  "kernelspec": {
   "display_name": "Python 3 (ipykernel)",
   "language": "python",
   "name": "python3"
  },
  "language_info": {
   "codemirror_mode": {
    "name": "ipython",
    "version": 3
   },
   "file_extension": ".py",
   "mimetype": "text/x-python",
   "name": "python",
   "nbconvert_exporter": "python",
   "pygments_lexer": "ipython3",
   "version": "3.12.7"
  }
 },
 "nbformat": 4,
 "nbformat_minor": 5
}
