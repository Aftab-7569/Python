{
 "cells": [
  {
   "cell_type": "code",
   "execution_count": 6,
   "id": "2bdd0da9-2860-475f-bcad-10b4b7d9c6dc",
   "metadata": {},
   "outputs": [],
   "source": [
    "class animal:\n",
    "    def sound(self):\n",
    "        return \"some sound\"\n",
    "\n",
    "class dog(animal):\n",
    "    def sound(self):\n",
    "        return \"bark\"\n",
    "\n",
    "class cat(animal):\n",
    "    def sound(self):\n",
    "        return \"meow\"\n",
    "\n",
    "class goat(animal):\n",
    "    def sound(self):\n",
    "        return \"maahh\""
   ]
  },
  {
   "cell_type": "code",
   "execution_count": 7,
   "id": "ef5cef8b-96e3-4906-b5cf-1a08694cf155",
   "metadata": {},
   "outputs": [],
   "source": [
    "def make_sound(animal):\n",
    "    print(animal.sound())"
   ]
  },
  {
   "cell_type": "code",
   "execution_count": 8,
   "id": "01cd7ceb-5695-4e1d-a699-0e7747ba6574",
   "metadata": {},
   "outputs": [],
   "source": [
    "#   create objects\n",
    "dog = dog()\n",
    "cat = cat()\n",
    "goat = goat()"
   ]
  },
  {
   "cell_type": "code",
   "execution_count": 9,
   "id": "de5ddd51-fd90-48af-953f-e3f6a70fae8e",
   "metadata": {},
   "outputs": [
    {
     "name": "stdout",
     "output_type": "stream",
     "text": [
      "bark\n",
      "meow\n",
      "maahh\n"
     ]
    }
   ],
   "source": [
    "# polymorphism\n",
    "make_sound(dog)\n",
    "make_sound(cat)\n",
    "make_sound(goat)\n"
   ]
  }
 ],
 "metadata": {
  "kernelspec": {
   "display_name": "Python 3 (ipykernel)",
   "language": "python",
   "name": "python3"
  },
  "language_info": {
   "codemirror_mode": {
    "name": "ipython",
    "version": 3
   },
   "file_extension": ".py",
   "mimetype": "text/x-python",
   "name": "python",
   "nbconvert_exporter": "python",
   "pygments_lexer": "ipython3",
   "version": "3.12.7"
  }
 },
 "nbformat": 4,
 "nbformat_minor": 5
}
