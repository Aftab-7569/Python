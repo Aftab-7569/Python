{
 "cells": [
  {
   "cell_type": "code",
   "execution_count": 51,
   "id": "6e89cdb5-67c4-4976-84e1-7a9bef6266ee",
   "metadata": {},
   "outputs": [
    {
     "name": "stdout",
     "output_type": "stream",
     "text": [
      "aalam\n"
     ]
    }
   ],
   "source": [
    "name=\"aalam\"\n",
    "print(name)"
   ]
  },
  {
   "cell_type": "code",
   "execution_count": 14,
   "id": "7db462f9-ac36-40b7-95b6-11e9c14cced0",
   "metadata": {},
   "outputs": [
    {
     "name": "stdout",
     "output_type": "stream",
     "text": [
      "i love india\n"
     ]
    }
   ],
   "source": [
    "web=\"i love india\"\n",
    "print(web)"
   ]
  },
  {
   "cell_type": "code",
   "execution_count": 15,
   "id": "0cbbacda-e256-471b-8785-fc0acb49fcfd",
   "metadata": {},
   "outputs": [
    {
     "name": "stdout",
     "output_type": "stream",
     "text": [
      "welcome to the coding\n"
     ]
    }
   ],
   "source": [
    "web=\"welcome to the coding\"\n",
    "print(web)"
   ]
  },
  {
   "cell_type": "code",
   "execution_count": 16,
   "id": "631b8e07-99f4-492c-8d0f-a3be5b5d3484",
   "metadata": {},
   "outputs": [
    {
     "name": "stdout",
     "output_type": "stream",
     "text": [
      "WELCOME TO THE CODING\n"
     ]
    }
   ],
   "source": [
    "print(web.upper())"
   ]
  },
  {
   "cell_type": "code",
   "execution_count": 17,
   "id": "1491ddaf-5a2f-47fa-b018-6e3346f67507",
   "metadata": {},
   "outputs": [
    {
     "name": "stdout",
     "output_type": "stream",
     "text": [
      "welcome to the coding\n"
     ]
    }
   ],
   "source": [
    "print(web.lower())"
   ]
  },
  {
   "cell_type": "code",
   "execution_count": 18,
   "id": "f6624797-2ee1-4dcf-ae71-514033b50f7c",
   "metadata": {},
   "outputs": [
    {
     "name": "stdout",
     "output_type": "stream",
     "text": [
      "('welcome to the coding', '', '')\n"
     ]
    }
   ],
   "source": [
    "print(web.partition('.'))"
   ]
  },
  {
   "cell_type": "code",
   "execution_count": 19,
   "id": "7e1f8dae-39c7-46a5-9c4d-c5eea000f75a",
   "metadata": {},
   "outputs": [
    {
     "name": "stdout",
     "output_type": "stream",
     "text": [
      "welcome to the coding\n"
     ]
    }
   ],
   "source": [
    "print(web.replace('www.','@'))"
   ]
  },
  {
   "cell_type": "code",
   "execution_count": 21,
   "id": "6216a785-4b14-4411-8ba5-1be6205838a4",
   "metadata": {},
   "outputs": [
    {
     "name": "stdout",
     "output_type": "stream",
     "text": [
      "17\n"
     ]
    }
   ],
   "source": [
    "print(web.find('d'))"
   ]
  },
  {
   "cell_type": "code",
   "execution_count": 22,
   "id": "f4aaf1d2-805d-4c2b-9c68-911a10ab9156",
   "metadata": {},
   "outputs": [
    {
     "name": "stdout",
     "output_type": "stream",
     "text": [
      "welcome to the coding this is web-\n"
     ]
    }
   ],
   "source": [
    "print(web.rstrip(),'this is web-')"
   ]
  },
  {
   "cell_type": "code",
   "execution_count": 23,
   "id": "cbce334e-cfa9-44ec-8077-16c605d69263",
   "metadata": {},
   "outputs": [
    {
     "name": "stdout",
     "output_type": "stream",
     "text": [
      "['welcome to the coding']\n"
     ]
    }
   ],
   "source": [
    "print(web.split('.'))"
   ]
  },
  {
   "cell_type": "code",
   "execution_count": 25,
   "id": "fbde10ef-21e3-469d-80e0-019c22bb140b",
   "metadata": {},
   "outputs": [
    {
     "name": "stdout",
     "output_type": "stream",
     "text": [
      "True\n"
     ]
    }
   ],
   "source": [
    "print(web.startswith('w'))"
   ]
  },
  {
   "cell_type": "code",
   "execution_count": 26,
   "id": "097abf51-233e-4f4d-a432-bad1e959188f",
   "metadata": {},
   "outputs": [
    {
     "name": "stdout",
     "output_type": "stream",
     "text": [
      "True\n",
      "False\n"
     ]
    }
   ],
   "source": [
    "data='80'\n",
    "print(data.isnumeric())\n",
    "print(web.isnumeric())"
   ]
  },
  {
   "cell_type": "code",
   "execution_count": 31,
   "id": "ea85a175-e4eb-4cdd-b7aa-c563872b0a99",
   "metadata": {},
   "outputs": [
    {
     "name": "stdout",
     "output_type": "stream",
     "text": [
      "19\n"
     ]
    }
   ],
   "source": [
    "print(web.index('n'))"
   ]
  },
  {
   "cell_type": "code",
   "execution_count": 45,
   "id": "c543de96-d9b6-4785-951d-174f195cd12b",
   "metadata": {},
   "outputs": [],
   "source": [
    "str1 = \"Hello, world!\"\n",
    "str2 = \"I love Python.\"\n",
    "str3 = \"Hello, world!\""
   ]
  },
  {
   "cell_type": "code",
   "execution_count": 47,
   "id": "212554e4-0e50-4675-aa7a-28ac4471b096",
   "metadata": {},
   "outputs": [
    {
     "name": "stdout",
     "output_type": "stream",
     "text": [
      "False\n"
     ]
    }
   ],
   "source": [
    "print(str1 == str2)"
   ]
  },
  {
   "cell_type": "code",
   "execution_count": 48,
   "id": "c1dceb36-26e0-46d4-9584-60425f4e0f58",
   "metadata": {},
   "outputs": [
    {
     "name": "stdout",
     "output_type": "stream",
     "text": [
      "True\n"
     ]
    }
   ],
   "source": [
    "print(str1 == str3)"
   ]
  },
  {
   "cell_type": "code",
   "execution_count": 49,
   "id": "ff0f123e-68c6-4680-a0a9-188761424403",
   "metadata": {},
   "outputs": [
    {
     "name": "stdout",
     "output_type": "stream",
     "text": [
      "hello,aalam\n"
     ]
    }
   ],
   "source": [
    "# join two or more strings\n",
    "greet=\"hello,\"\n",
    "name=\"aalam\"\n",
    "result=greet+name\n",
    "print(result)"
   ]
  },
  {
   "cell_type": "code",
   "execution_count": 50,
   "id": "9d6f020f-12a0-4960-812b-b60a1e3a65c6",
   "metadata": {},
   "outputs": [
    {
     "name": "stdout",
     "output_type": "stream",
     "text": [
      "a\n",
      "a\n",
      "l\n",
      "a\n",
      "m\n",
      ".\n",
      "p\n",
      "4\n",
      "u\n",
      ".\n",
      "i\n",
      "n\n"
     ]
    }
   ],
   "source": [
    "# iterating through  string\n",
    "data=\"aalam.p4u.in\"\n",
    "for i in data:\n",
    "    print(i)"
   ]
  },
  {
   "cell_type": "code",
   "execution_count": null,
   "id": "cb189cf0-bb4a-4462-a681-2326990221d3",
   "metadata": {},
   "outputs": [],
   "source": []
  }
 ],
 "metadata": {
  "kernelspec": {
   "display_name": "Python 3 (ipykernel)",
   "language": "python",
   "name": "python3"
  },
  "language_info": {
   "codemirror_mode": {
    "name": "ipython",
    "version": 3
   },
   "file_extension": ".py",
   "mimetype": "text/x-python",
   "name": "python",
   "nbconvert_exporter": "python",
   "pygments_lexer": "ipython3",
   "version": "3.12.7"
  }
 },
 "nbformat": 4,
 "nbformat_minor": 5
}
