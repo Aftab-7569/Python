{
 "cells": [
  {
   "cell_type": "code",
   "execution_count": 42,
   "id": "9b197e82-6a41-43ed-ab96-62e5348abefe",
   "metadata": {},
   "outputs": [],
   "source": [
    "class bank:\n",
    "  def bank():\n",
    "      print(\"bank name: hdfc\")\n",
    "  def amount(self,amount):\n",
    "      self.amount=amount\n",
    "      print(\"amount:\",amount)\n",
    "  def deposit(self,deposit):\n",
    "      print(\"deposit:\",deposit)\n",
    "      update_amount=self.amount+deposit\n",
    "      print(\"updated balance:-\",update_amount)\n",
    "      self.amount=update_amount\n",
    "  def withdrawl(self,amount):\n",
    "      balance_amount=self.amount-amount\n",
    "      print(\"balance amount:\",balance_amount)\n",
    "      self.amount=balance_amount\n",
    "  def interest(self,rate):\n",
    "      int_amount=self.amount*rate/100\n",
    "      print(\"interest amount:\",int_amount)\n",
    "      amt=self.amount+int_amount\n",
    "      self.amount=amt\n",
    "      print(\"interested amount:\",amt)\n",
    "  def customer_info(self,name):\n",
    "      print(\"customer name:\",name)\n",
    "  def balance(self):\n",
    "\n",
    "      print(\"balance amount:\",self.amount)"
   ]
  },
  {
   "cell_type": "code",
   "execution_count": 43,
   "id": "3352e907-c9c1-470c-8e2a-27144bf6a723",
   "metadata": {},
   "outputs": [],
   "source": [
    "b=bank()"
   ]
  },
  {
   "cell_type": "code",
   "execution_count": 44,
   "id": "0f5ddf0f-1464-48eb-94e6-a0a682e847e0",
   "metadata": {},
   "outputs": [
    {
     "name": "stdout",
     "output_type": "stream",
     "text": [
      "amount: 20000\n",
      "deposit: 4200\n",
      "updated balance:- 24200\n",
      "balance amount: 21700\n",
      "interest amount: 3255.0\n",
      "interested amount: 24955.0\n",
      "customer name: affuuu\n",
      "balance amount: 24955.0\n"
     ]
    }
   ],
   "source": [
    "b.bank\n",
    "b.amount(20000)\n",
    "b.deposit(4200)\n",
    "b.withdrawl(2500)\n",
    "b.interest(15)\n",
    "b.customer_info(\"affuuu\")\n",
    "b.balance()"
   ]
  },
  {
   "cell_type": "code",
   "execution_count": 54,
   "id": "ab23a64b-68b3-41c5-bfa1-8f2b08301a00",
   "metadata": {},
   "outputs": [],
   "source": [
    "class bank:\n",
    "  def bank():\n",
    "      print(\"bank name: hdfc\")\n",
    "  def amount(self,amount):\n",
    "      self.amount=amount\n",
    "      print(\"amount:\",amount)\n",
    "  def deposit(self,deposit):\n",
    "      print(\"deposit:\",deposit)\n",
    "      update_amount=self.amount+deposit\n",
    "      print(\"updated balance:-\",update_amount)\n",
    "      self.amount=update_amount\n",
    "  def withdrawl(self,amount):\n",
    "      balance_amount=self.amount-amount\n",
    "      print(\"balance amount:\",balance_amount)\n",
    "  def interest(self,rate):\n",
    "      int_amount=self.amount*rate/100\n",
    "      print(\"interest amount:\",int_amount)\n",
    "      amt=self.amount+int_amount\n",
    "     \n",
    "  def customer_info(self,name):\n",
    "      print(\"customer name:\",name)\n",
    "  def balance(self):\n",
    "\n",
    "      print(\"balance amount:\",self.amount)"
   ]
  },
  {
   "cell_type": "code",
   "execution_count": 55,
   "id": "79b49938-ca50-498c-9c28-75d8c9e800f8",
   "metadata": {},
   "outputs": [],
   "source": [
    "b=bank()"
   ]
  },
  {
   "cell_type": "code",
   "execution_count": 56,
   "id": "0087870a-6ccd-41d8-8ffe-fb609e1bfd50",
   "metadata": {},
   "outputs": [
    {
     "name": "stdout",
     "output_type": "stream",
     "text": [
      "amount: 30000\n",
      "deposit: 5200\n",
      "updated balance:- 35200\n",
      "balance amount: 30700\n",
      "interest amount: 6336.0\n",
      "customer name: aalam\n",
      "balance amount: 35200\n"
     ]
    }
   ],
   "source": [
    "b.bank\n",
    "b.amount(30000)\n",
    "b.deposit(5200)\n",
    "b.withdrawl(4500)\n",
    "b.interest(18)\n",
    "b.customer_info(\"aalam\")\n",
    "b.balance()"
   ]
  },
  {
   "cell_type": "code",
   "execution_count": null,
   "id": "c666a865-ac51-4abe-b8f2-8dd7bf3796d3",
   "metadata": {},
   "outputs": [],
   "source": []
  }
 ],
 "metadata": {
  "kernelspec": {
   "display_name": "Python 3 (ipykernel)",
   "language": "python",
   "name": "python3"
  },
  "language_info": {
   "codemirror_mode": {
    "name": "ipython",
    "version": 3
   },
   "file_extension": ".py",
   "mimetype": "text/x-python",
   "name": "python",
   "nbconvert_exporter": "python",
   "pygments_lexer": "ipython3",
   "version": "3.12.7"
  }
 },
 "nbformat": 4,
 "nbformat_minor": 5
}
