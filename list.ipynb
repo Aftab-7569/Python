{
 "cells": [
  {
   "cell_type": "code",
   "execution_count": 2,
   "id": "49786278-1a16-4fba-ae40-9e5a78693a25",
   "metadata": {},
   "outputs": [],
   "source": [
    "float_list={23,12.8,45,78,59}"
   ]
  },
  {
   "cell_type": "code",
   "execution_count": 8,
   "id": "3dcf18e3-c14c-45d6-ad53-cfe81d3ed722",
   "metadata": {},
   "outputs": [],
   "source": [
    "int_list={\"1,2,3,4,5,6\"}"
   ]
  },
  {
   "cell_type": "code",
   "execution_count": 9,
   "id": "4f50d2b0-70f4-4c73-b7e5-fba8127098bb",
   "metadata": {},
   "outputs": [],
   "source": [
    "friends_list={\"affuuu,raj,ashvin,aalam,prem\"}"
   ]
  },
  {
   "cell_type": "code",
   "execution_count": 10,
   "id": "82cf4892-57dd-4759-b33c-3925d7d85daa",
   "metadata": {},
   "outputs": [
    {
     "name": "stdout",
     "output_type": "stream",
     "text": [
      "{'affuuu,raj,ashvin,aalam,prem'}\n"
     ]
    }
   ],
   "source": [
    "print(friends_list)"
   ]
  },
  {
   "cell_type": "code",
   "execution_count": 11,
   "id": "cb21176d-77ca-4f33-9200-21dbf357109d",
   "metadata": {
    "scrolled": true
   },
   "outputs": [
    {
     "name": "stdout",
     "output_type": "stream",
     "text": [
      "{23, 59, 12.8, 45, 78}\n",
      "{'1,2,3,4,5,6'}\n"
     ]
    }
   ],
   "source": [
    "print(float_list)\n",
    "print(int_list)"
   ]
  },
  {
   "cell_type": "code",
   "execution_count": 14,
   "id": "b8363589-fa32-4875-991a-faf6f47703d6",
   "metadata": {},
   "outputs": [],
   "source": [
    "mixed_list={23,2.8,\"affuuu\",\"cherry\"}"
   ]
  },
  {
   "cell_type": "code",
   "execution_count": 22,
   "id": "bfd1b926-3dc2-49c1-962f-284448a6b8ca",
   "metadata": {},
   "outputs": [],
   "source": [
    "string_list={\"apple\",\"banana\",\"cherry\",\"date\",\"elderberry\"}"
   ]
  },
  {
   "cell_type": "code",
   "execution_count": 23,
   "id": "ebd3314d-154b-46c4-b44e-769e4572bb07",
   "metadata": {},
   "outputs": [
    {
     "name": "stdout",
     "output_type": "stream",
     "text": [
      "{'date', 'cherry', 'banana', 'elderberry', 'apple'}\n",
      "{'affuuu', 'cherry', 2.8, 23}\n"
     ]
    }
   ],
   "source": [
    "print(string_list)\n",
    "print(mixed_list)"
   ]
  },
  {
   "cell_type": "code",
   "execution_count": 25,
   "id": "35565ccf-f7cf-4a40-8d9d-0c3c9f0956f1",
   "metadata": {},
   "outputs": [
    {
     "name": "stdout",
     "output_type": "stream",
     "text": [
      "88\n",
      "44\n",
      "77\n"
     ]
    }
   ],
   "source": [
    "# list\n",
    "# accessing elements\n",
    "data=(22,33,44,55,66,77,88,99)\n",
    "print(data[6])\n",
    "print(data[2])\n",
    "print(data[5])"
   ]
  },
  {
   "cell_type": "code",
   "execution_count": 27,
   "id": "e285b88b-5ffe-4b56-a4b2-dd4dfce36c2f",
   "metadata": {},
   "outputs": [
    {
     "name": "stdout",
     "output_type": "stream",
     "text": [
      "(44, 55, 66, 77)\n"
     ]
    }
   ],
   "source": [
    "# slicing\n",
    "print(data[2:6])"
   ]
  },
  {
   "cell_type": "code",
   "execution_count": 28,
   "id": "1a0567b1-d40d-4bec-a86e-d12eecffc616",
   "metadata": {},
   "outputs": [
    {
     "name": "stdout",
     "output_type": "stream",
     "text": [
      "(22, 33, 44, 55)\n"
     ]
    }
   ],
   "source": [
    "print(data[:4])"
   ]
  },
  {
   "cell_type": "code",
   "execution_count": 29,
   "id": "bf1ba6ab-9143-497e-af49-afd1b727d1ff",
   "metadata": {},
   "outputs": [
    {
     "name": "stdout",
     "output_type": "stream",
     "text": [
      "(22, 33)\n",
      "(22, 33, 44, 55, 66, 77, 88)\n"
     ]
    }
   ],
   "source": [
    "print(data[:2])\n",
    "print(data[:7])"
   ]
  },
  {
   "cell_type": "code",
   "execution_count": 30,
   "id": "e3471790-0c85-4bde-ac8a-06e9c7460861",
   "metadata": {},
   "outputs": [
    {
     "name": "stdout",
     "output_type": "stream",
     "text": [
      "(22, 33, 44, 55, 66, 77, 88, 99)\n"
     ]
    }
   ],
   "source": [
    "print(data[:])"
   ]
  },
  {
   "cell_type": "code",
   "execution_count": 33,
   "id": "bdb590a5-2342-453a-a8ce-df1e44d2bd76",
   "metadata": {},
   "outputs": [],
   "source": [
    "# methods\n",
    "# adding elements\n",
    "data=[22,33,44,55,66,77,88,99]\n",
    "data.insert(5,666)"
   ]
  },
  {
   "cell_type": "code",
   "execution_count": 34,
   "id": "47bc4995-5ea5-4d09-8753-b75227f27440",
   "metadata": {},
   "outputs": [
    {
     "name": "stdout",
     "output_type": "stream",
     "text": [
      "[22, 33, 44, 55, 66, 666, 77, 88, 99]\n"
     ]
    }
   ],
   "source": [
    "print(data)"
   ]
  },
  {
   "cell_type": "code",
   "execution_count": 35,
   "id": "5545efe4-97f8-4aa7-99fa-54cf5c245222",
   "metadata": {},
   "outputs": [],
   "source": [
    "# extending elements"
   ]
  },
  {
   "cell_type": "code",
   "execution_count": 38,
   "id": "7d933c17-953f-4421-a61c-c6810da97666",
   "metadata": {},
   "outputs": [
    {
     "name": "stdout",
     "output_type": "stream",
     "text": [
      "[22, 33, 44, 55, 66, 666, 77, 88, 99, 23, 24, 26, 23, 24, 26]\n"
     ]
    }
   ],
   "source": [
    "new_data=[23,24,26]\n",
    "data.extend(new_data)\n",
    "print(data)"
   ]
  },
  {
   "cell_type": "code",
   "execution_count": 42,
   "id": "320b39ce-5f8f-4627-abe3-88e9afcdecd5",
   "metadata": {},
   "outputs": [
    {
     "name": "stdout",
     "output_type": "stream",
     "text": [
      "[22, 33, 44, 55, 66, 666, 77, 88, 99, 23, 24, 26, 23, 24, 26, 1000]\n"
     ]
    }
   ],
   "source": [
    "# appending elements\n",
    "data.append(1000)\n",
    "print(data)"
   ]
  },
  {
   "cell_type": "code",
   "execution_count": 43,
   "id": "3df4eae5-d73f-4e7a-9a70-a8ef227a3264",
   "metadata": {},
   "outputs": [],
   "source": [
    "d=[700,800,900]\n",
    "data.insert(3,d)"
   ]
  },
  {
   "cell_type": "code",
   "execution_count": 45,
   "id": "95c6a9b0-5a8e-45a3-86b0-4538b05f8e9a",
   "metadata": {},
   "outputs": [
    {
     "name": "stdout",
     "output_type": "stream",
     "text": [
      "[22, 33, 44, [700, 800, 900], 55, 66, 666, 77, 88, 99, 23, 24, 26, 23, 24, 26, 1000]\n"
     ]
    }
   ],
   "source": [
    "print(data)"
   ]
  },
  {
   "cell_type": "code",
   "execution_count": 61,
   "id": "d3a83e8a-1664-4f85-8dad-26e359be1652",
   "metadata": {},
   "outputs": [
    {
     "name": "stdout",
     "output_type": "stream",
     "text": [
      "[23, 45, 89, 45, 12, 45]\n"
     ]
    }
   ],
   "source": [
    "# removing elements\n",
    "data=[23,45,89,45,12,45,28]\n",
    "data.remove(28)\n",
    "print(data)"
   ]
  },
  {
   "cell_type": "code",
   "execution_count": 63,
   "id": "10e76368-f55a-403c-bd29-de78d6fa1e6a",
   "metadata": {},
   "outputs": [
    {
     "name": "stdout",
     "output_type": "stream",
     "text": [
      "popped element: 45\n"
     ]
    }
   ],
   "source": [
    "# popping elements\n",
    "# remove and return the last element\n",
    "popped_element=data.pop()\n",
    "print(\"popped element:\",popped_element)"
   ]
  },
  {
   "cell_type": "code",
   "execution_count": 64,
   "id": "e835fe29-2de8-4a23-9eca-93c4d1d5a2c3",
   "metadata": {},
   "outputs": [
    {
     "name": "stdout",
     "output_type": "stream",
     "text": [
      "[23, 45, 89, 45, 12]\n"
     ]
    }
   ],
   "source": [
    "print(data)"
   ]
  },
  {
   "cell_type": "code",
   "execution_count": 66,
   "id": "56abf617-74b5-452d-87d9-86c218e48149",
   "metadata": {},
   "outputs": [
    {
     "name": "stdout",
     "output_type": "stream",
     "text": [
      "sum of elements: 287\n",
      "minimum value: 12\n",
      "maximum value: 89\n"
     ]
    }
   ],
   "source": [
    "data=[23,45,89,45,12,45,28]\n",
    "# sum\n",
    "total_sum=sum(data)\n",
    "print(\"sum of elements:\",total_sum)\n",
    "# min() max()\n",
    "min_value=min(data)\n",
    "max_value=max(data)\n",
    "print(\"minimum value:\",min_value)\n",
    "print(\"maximum value:\",max_value)"
   ]
  },
  {
   "cell_type": "code",
   "execution_count": 68,
   "id": "9a746fcc-4627-43b5-ad36-9ced05fb54f5",
   "metadata": {},
   "outputs": [
    {
     "name": "stdout",
     "output_type": "stream",
     "text": [
      "length of the list: 7\n"
     ]
    }
   ],
   "source": [
    "# length of the list\n",
    "length_of_data=len(data)\n",
    "print(\"length of the list:\",length_of_data)"
   ]
  },
  {
   "cell_type": "code",
   "execution_count": 69,
   "id": "e95a76dc-402a-45d5-84bc-0ae2bd4b728c",
   "metadata": {},
   "outputs": [
    {
     "name": "stdout",
     "output_type": "stream",
     "text": [
      "sorted list: [12, 23, 28, 45, 45, 45, 89]\n",
      "reversed list: [89, 45, 45, 45, 28, 23, 12]\n"
     ]
    }
   ],
   "source": [
    "# sorting the list\n",
    "data.sort()\n",
    "print(\"sorted list:\",data)\n",
    "# reversing the list\n",
    "data.reverse()\n",
    "print(\"reversed list:\",data)"
   ]
  },
  {
   "cell_type": "code",
   "execution_count": 70,
   "id": "d5cf2738-bd8b-4332-aa6b-c062e6998466",
   "metadata": {},
   "outputs": [
    {
     "name": "stdout",
     "output_type": "stream",
     "text": [
      "89\n",
      "45\n",
      "45\n",
      "45\n",
      "28\n",
      "23\n",
      "12\n"
     ]
    }
   ],
   "source": [
    "# for loop\n",
    "for i in data:\n",
    "    print(i)"
   ]
  },
  {
   "cell_type": "code",
   "execution_count": 76,
   "id": "58912aac-4288-456b-ad3e-4ffdfc6ceb60",
   "metadata": {},
   "outputs": [
    {
     "name": "stdin",
     "output_type": "stream",
     "text": [
      "enter the size of the list: 4\n",
      "enter food item: jalebi\n",
      "enter food item: fafada\n",
      "enter food item: kachori\n",
      "enter food item: pakodi\n"
     ]
    },
    {
     "name": "stdout",
     "output_type": "stream",
     "text": [
      "jalebi\n",
      "fafada\n",
      "kachori\n",
      "pakodi\n"
     ]
    }
   ],
   "source": [
    "# how to talke user input in a list\n",
    "size=int(input(\"enter the size of the list:\"))\n",
    "food=[]\n",
    "for i in range(size):\n",
    "    item = input(\"enter food item:\")\n",
    "    food.append(item)\n",
    "\n",
    "for item in food:\n",
    "    print(item)\n"
   ]
  },
  {
   "cell_type": "code",
   "execution_count": null,
   "id": "457ee624-da23-49c8-9c64-c6b5075e5dc2",
   "metadata": {},
   "outputs": [],
   "source": []
  }
 ],
 "metadata": {
  "kernelspec": {
   "display_name": "Python 3 (ipykernel)",
   "language": "python",
   "name": "python3"
  },
  "language_info": {
   "codemirror_mode": {
    "name": "ipython",
    "version": 3
   },
   "file_extension": ".py",
   "mimetype": "text/x-python",
   "name": "python",
   "nbconvert_exporter": "python",
   "pygments_lexer": "ipython3",
   "version": "3.12.7"
  }
 },
 "nbformat": 4,
 "nbformat_minor": 5
}
