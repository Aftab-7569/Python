{
 "cells": [
  {
   "cell_type": "code",
   "execution_count": 1,
   "id": "0fa749cc-5228-4971-9e87-4df847d88a5d",
   "metadata": {},
   "outputs": [],
   "source": [
    "class client:\n",
    "    def client_info():\n",
    "        print(\"client name : aftab\")"
   ]
  },
  {
   "cell_type": "code",
   "execution_count": 5,
   "id": "be3f7b48-5a58-42d8-be0b-b8d9d569a944",
   "metadata": {},
   "outputs": [],
   "source": [
    "class product (client):\n",
    "    def product_info():\n",
    "        print(\"product info - pen,pencil,books\")"
   ]
  },
  {
   "cell_type": "code",
   "execution_count": 6,
   "id": "f934ef9d-9fdb-4f70-8935-35969aa26f08",
   "metadata": {},
   "outputs": [
    {
     "name": "stdout",
     "output_type": "stream",
     "text": [
      "client name : aftab\n",
      "product info - pen,pencil,books\n"
     ]
    }
   ],
   "source": [
    "object = product\n",
    "object.client_info()\n",
    "object.product_info()"
   ]
  },
  {
   "cell_type": "code",
   "execution_count": null,
   "id": "ba84f0d9-3491-4fd3-80ee-3165e6e66f76",
   "metadata": {},
   "outputs": [],
   "source": []
  }
 ],
 "metadata": {
  "kernelspec": {
   "display_name": "Python 3 (ipykernel)",
   "language": "python",
   "name": "python3"
  },
  "language_info": {
   "codemirror_mode": {
    "name": "ipython",
    "version": 3
   },
   "file_extension": ".py",
   "mimetype": "text/x-python",
   "name": "python",
   "nbconvert_exporter": "python",
   "pygments_lexer": "ipython3",
   "version": "3.12.7"
  }
 },
 "nbformat": 4,
 "nbformat_minor": 5
}
