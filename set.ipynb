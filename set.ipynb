{
 "cells": [
  {
   "cell_type": "code",
   "execution_count": 1,
   "id": "6ff74367-a85e-419c-a9ea-8de5c4646c43",
   "metadata": {},
   "outputs": [
    {
     "name": "stdout",
     "output_type": "stream",
     "text": [
      "{1, 965, 8, 458, 525, 562, 52, 756, 58, 123, 895}\n"
     ]
    }
   ],
   "source": [
    "data={1,1,52,8,8,8,8,8,8,58,965,895,123,562,458,756,525}\n",
    "print(data)"
   ]
  },
  {
   "cell_type": "code",
   "execution_count": 3,
   "id": "c8d63818-f9eb-471a-90a9-b06812e811ed",
   "metadata": {},
   "outputs": [
    {
     "name": "stdout",
     "output_type": "stream",
     "text": [
      "{1, 965, 8, 458, 525, 562, 52, 756, 58, 123, 895}\n"
     ]
    }
   ],
   "source": [
    "data=set(data)\n",
    "print(data)"
   ]
  },
  {
   "cell_type": "code",
   "execution_count": 5,
   "id": "8fd5b0c6-4ca0-42c3-a2d8-7b4b65768bee",
   "metadata": {},
   "outputs": [
    {
     "name": "stdout",
     "output_type": "stream",
     "text": [
      "{1, 2, 3, 4, 5, 6, 7, 8, 9}\n"
     ]
    }
   ],
   "source": [
    "list_data={1,1,1,2,3,4,5,6,7,8,9,1,1,2,1,3}\n",
    "set_data=set(list_data)\n",
    "print(set_data)"
   ]
  },
  {
   "cell_type": "code",
   "execution_count": 7,
   "id": "bd770a4d-a1c8-4301-98ef-9aa96cd28ba5",
   "metadata": {},
   "outputs": [
    {
     "name": "stdout",
     "output_type": "stream",
     "text": [
      "{1, 2, 3, 4, 5, 6, 7, 8, 555, 566, 888}\n"
     ]
    }
   ],
   "source": [
    "data={1,2,3,4,5,6,7,8}\n",
    "data.update([566,888,555])\n",
    "print(data)"
   ]
  },
  {
   "cell_type": "code",
   "execution_count": null,
   "id": "57fb7602-5e29-4c3b-a2e1-10108eeccadb",
   "metadata": {},
   "outputs": [],
   "source": []
  }
 ],
 "metadata": {
  "kernelspec": {
   "display_name": "Python 3 (ipykernel)",
   "language": "python",
   "name": "python3"
  },
  "language_info": {
   "codemirror_mode": {
    "name": "ipython",
    "version": 3
   },
   "file_extension": ".py",
   "mimetype": "text/x-python",
   "name": "python",
   "nbconvert_exporter": "python",
   "pygments_lexer": "ipython3",
   "version": "3.12.7"
  }
 },
 "nbformat": 4,
 "nbformat_minor": 5
}
