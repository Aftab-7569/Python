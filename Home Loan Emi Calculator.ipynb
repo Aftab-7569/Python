{
 "cells": [
  {
   "cell_type": "code",
   "execution_count": null,
   "id": "fedacc2d-8c1c-43d7-bac6-0f496dbf9698",
   "metadata": {},
   "outputs": [],
   "source": []
  }
 ],
 "metadata": {
  "kernelspec": {
   "display_name": "",
   "name": ""
  },
  "language_info": {
   "name": ""
  }
 },
 "nbformat": 4,
 "nbformat_minor": 5
}
