{
 "cells": [
  {
   "cell_type": "code",
   "execution_count": 7,
   "id": "dbaa77df-2ac8-4707-8e65-590e4cd9af82",
   "metadata": {},
   "outputs": [
    {
     "name": "stdout",
     "output_type": "stream",
     "text": [
      "Match Found:-  Codes\n"
     ]
    }
   ],
   "source": [
    "# using match()\n",
    "\n",
    "import re\n",
    "\n",
    "text = \"Codes with aftab\"\n",
    "pattern = r\"Codes\"\n",
    "\n",
    "match = re.match(pattern,text)\n",
    "if match:\n",
    "    print(\"Match Found:- \",match.group())\n",
    "else:\n",
    "    print(\"No Match:- \")"
   ]
  },
  {
   "cell_type": "code",
   "execution_count": 8,
   "id": "25421bb1-9824-4cba-951e-981d69d57248",
   "metadata": {},
   "outputs": [
    {
     "name": "stdout",
     "output_type": "stream",
     "text": [
      "Match Found -  aftab\n"
     ]
    }
   ],
   "source": [
    "# SEARCH()\n",
    "pattern = r\"aftab\"\n",
    "\n",
    "match = re.search(pattern,text)\n",
    "\n",
    "if match:\n",
    "    print(\"Match Found - \",match.group())\n",
    "else:\n",
    "    print(\"No Match \")"
   ]
  },
  {
   "cell_type": "code",
   "execution_count": 10,
   "id": "34f9aed7-9540-43bc-831d-9a4816cfdbe8",
   "metadata": {},
   "outputs": [
    {
     "name": "stdout",
     "output_type": "stream",
     "text": [
      "Match Found -  Codes\n"
     ]
    }
   ],
   "source": [
    "\n",
    "# re.ignorecase\n",
    "\n",
    "pattern = r\"CODES\"\n",
    "\n",
    "match = re.search(pattern,text,re.IGNORECASE)\n",
    "\n",
    "if match:\n",
    "    print(\"Match Found - \",match.group())\n",
    "else:\n",
    "        print(\"No Match \") "
   ]
  },
  {
   "cell_type": "code",
   "execution_count": 12,
   "id": "9d2dad8a-059e-40f4-bdf1-31a64ad1b086",
   "metadata": {},
   "outputs": [
    {
     "name": "stdout",
     "output_type": "stream",
     "text": [
      "['joy', 'joy', 'joy']\n"
     ]
    }
   ],
   "source": [
    "# re.multiline - start of each line with match\n",
    "\n",
    "text = \"joy is going home \\njoy learning\\njoy is playing\"\n",
    "pattern = r\"^joy\"\n",
    "match = re.findall(pattern,text,re.MULTILINE)\n",
    "print(match)"
   ]
  },
  {
   "cell_type": "code",
   "execution_count": 13,
   "id": "b651e7f0-43a2-41a5-84eb-78e8f3b92d68",
   "metadata": {},
   "outputs": [
    {
     "name": "stdout",
     "output_type": "stream",
     "text": [
      "['example@email.com', 'support@company.org']\n"
     ]
    }
   ],
   "source": [
    "# Output: ['example@email.com', 'support@company.org']\n",
    "\n",
    "text = \"Contact us at example@email.com or support@company.org\"\n",
    "pattern = r\"[a-zA-Z0-9._%+-]+@[a-zA-Z0-9.-]+\\.[a-zA-Z]{2,}\"\n",
    "\n",
    "emails = re.findall(pattern, text)\n",
    "print(emails)"
   ]
  },
  {
   "cell_type": "code",
   "execution_count": 15,
   "id": "c105c6dc-0bcc-4f69-9901-fb2de1e5cbda",
   "metadata": {},
   "outputs": [
    {
     "name": "stdout",
     "output_type": "stream",
     "text": [
      "Phone number found: (+91) 9022679653\n"
     ]
    }
   ],
   "source": [
    "# text = \"Call me at (123) 456-7890\"\n",
    "# pattern = r\"\\(\\d{3}\\) \\d{3}-\\d{4}\"\n",
    "\n",
    "text = \"Call me at (+91) 9022679653\"\n",
    "pattern = r\"\\(+.\\d{2}\\) \\d{10}\"\n",
    "\n",
    "match = re.search(pattern, text)\n",
    "\n",
    "if match:\n",
    "    print(\"Phone number found:\", match.group())  \n",
    "else:\n",
    "    print(\"No phone number found\")"
   ]
  },
  {
   "cell_type": "code",
   "execution_count": null,
   "id": "d14a2ead-73be-42a2-9998-b8f6cc3b9afb",
   "metadata": {},
   "outputs": [],
   "source": []
  }
 ],
 "metadata": {
  "kernelspec": {
   "display_name": "Python 3 (ipykernel)",
   "language": "python",
   "name": "python3"
  },
  "language_info": {
   "codemirror_mode": {
    "name": "ipython",
    "version": 3
   },
   "file_extension": ".py",
   "mimetype": "text/x-python",
   "name": "python",
   "nbconvert_exporter": "python",
   "pygments_lexer": "ipython3",
   "version": "3.12.7"
  }
 },
 "nbformat": 4,
 "nbformat_minor": 5
}
