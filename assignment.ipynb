{
 "cells": [
  {
   "cell_type": "code",
   "execution_count": 6,
   "id": "1628da1b",
   "metadata": {},
   "outputs": [
    {
     "name": "stdout",
     "output_type": "stream",
     "text": [
      "the num of natural numbers is: 55\n"
     ]
    }
   ],
   "source": [
    "# Write a Program to Calculate the Sum of Natural Numbers ?\n",
    "\n",
    "start=int(input(\"enter start number\"))\n",
    "end=int(input(\"enter end number\"))\n",
    "sum=0\n",
    "\n",
    "for i in range(start,end):\n",
    "    sum += i\n",
    "print(\"the num of natural numbers is:\",sum)"
   ]
  },
  {
   "cell_type": "code",
   "execution_count": 9,
   "id": "f4783322",
   "metadata": {},
   "outputs": [
    {
     "name": "stdout",
     "output_type": "stream",
     "text": [
      "5 x 1 = 5\n",
      "5 x 2 = 10\n",
      "5 x 3 = 15\n",
      "5 x 4 = 20\n",
      "5 x 5 = 25\n",
      "5 x 6 = 30\n",
      "5 x 7 = 35\n",
      "5 x 8 = 40\n",
      "5 x 9 = 45\n",
      "5 x 10 = 50\n"
     ]
    }
   ],
   "source": [
    "# Write a Program to Generate Multiplication Table ?\n",
    "\n",
    "number=int(input(\"enter number\"))\n",
    "for i in range(1,11):\n",
    "    print(number,\"x\",i,\"=\",i*number)\n"
   ]
  },
  {
   "cell_type": "code",
   "execution_count": 2,
   "id": "487c9240",
   "metadata": {},
   "outputs": [
    {
     "name": "stdout",
     "output_type": "stream",
     "text": [
      "the count of alphabets: 8\n"
     ]
    }
   ],
   "source": [
    "# Write a Program to Display count of Alphabets in to String ?\n",
    "\n",
    "word = input(\"enter the word\")\n",
    "print(\"the count of alphabets:\",len(word))"
   ]
  },
  {
   "cell_type": "code",
   "execution_count": 4,
   "id": "3d65e83b",
   "metadata": {},
   "outputs": [
    {
     "name": "stdout",
     "output_type": "stream",
     "text": [
      "the count of digit: 2\n"
     ]
    }
   ],
   "source": [
    "# Write a  Program to Count Number of Digits in an Integer\n",
    "\n",
    "number = int(input(\"enter your number\"))\n",
    "number=str(number)\n",
    "print(\"the count of digit:\",len(number))\n",
    "\n"
   ]
  },
  {
   "cell_type": "code",
   "execution_count": 1,
   "id": "9240abde-2b76-4355-868b-51f0d5adacdd",
   "metadata": {},
   "outputs": [
    {
     "name": "stdin",
     "output_type": "stream",
     "text": [
      "Enter Product 1 -  samosa\n",
      "Do you want to add more [Y/N]  y\n",
      "Enter Product 2 -  bhajiya\n",
      "Do you want to add more [Y/N]  y\n",
      "Enter Product 3 -  manchurian\n",
      "Do you want to add more [Y/N]  n\n",
      "Enter samosa Price (₹):  54\n",
      "Enter bhajiya Price (₹):  65\n",
      "Enter manchurian Price (₹):  28\n",
      "Do you want to add GST [Y/N]:  y\n",
      "Enter GST %:  18\n"
     ]
    },
    {
     "name": "stdout",
     "output_type": "stream",
     "text": [
      "\n",
      "------------------------------\n",
      "          🧾 FINAL BILL\n",
      "------------------------------\n",
      "Product          Price (₹)\n",
      "------------------------------\n",
      "samosa               54.00\n",
      "bhajiya              65.00\n",
      "manchurian           28.00\n",
      "------------------------------\n",
      "Subtotal            147.00\n",
      "GST @ 18%               26.46\n",
      "Total               173.46\n",
      "------------------------------\n"
     ]
    }
   ],
   "source": [
    "# Product and price lists\n",
    "products = []\n",
    "prices = []\n",
    "\n",
    "# Input loop for products\n",
    "i = 1\n",
    "while True:\n",
    "    product = input(f\"Enter Product {i} - \")\n",
    "    products.append(product)\n",
    "    more = input(\"Do you want to add more [Y/N] \").strip().upper()\n",
    "    if more != 'Y':\n",
    "        break\n",
    "    i += 1\n",
    "\n",
    "# Input prices for each product\n",
    "for product in products:\n",
    "    while True:\n",
    "        try:\n",
    "            price_input = input(f\"Enter {product} Price (₹): \").replace(\"/-\", \"\").strip()\n",
    "            price = float(price_input)\n",
    "            prices.append(price)\n",
    "            break\n",
    "        except ValueError:\n",
    "            print(\"Invalid price. Please enter a number.\")\n",
    "\n",
    "# Ask about GST\n",
    "apply_gst = input(\"Do you want to add GST [Y/N]: \").strip().upper()\n",
    "gst_percent = 0\n",
    "if apply_gst == 'Y':\n",
    "    while True:\n",
    "        try:\n",
    "            gst_percent = float(input(\"Enter GST %: \"))\n",
    "            break\n",
    "        except ValueError:\n",
    "            print(\"Invalid GST %. Please enter a number.\")\n",
    "\n",
    "# Calculate subtotal\n",
    "subtotal = sum(prices)\n",
    "\n",
    "# Calculate GST\n",
    "gst_amount = (subtotal * gst_percent) / 100 if gst_percent else 0\n",
    "total = subtotal + gst_amount\n",
    "\n",
    "# Print the bill\n",
    "print(\"\\n\" + \"-\" * 30)\n",
    "print(\" \" * 10 + \"🧾 FINAL BILL\")\n",
    "print(\"-\" * 30)\n",
    "print(f\"{'Product':15} {'Price (₹)':>10}\")\n",
    "print(\"-\" * 30)\n",
    "for product, price in zip(products, prices):\n",
    "    print(f\"{product:15} {price:>10.2f}\")\n",
    "\n",
    "print(\"-\" * 30)\n",
    "print(f\"{'Subtotal':15} {subtotal:>10.2f}\")\n",
    "if gst_percent:\n",
    "    print(f\"GST @ {gst_percent:.0f}%{'':9} {gst_amount:>10.2f}\")\n",
    "print(f\"{'Total':15} {total:>10.2f}\")\n",
    "print(\"-\" * 30)\n"
   ]
  },
  {
   "cell_type": "code",
   "execution_count": null,
   "id": "715af77b-3529-4d99-9737-9f84dc21639b",
   "metadata": {},
   "outputs": [],
   "source": []
  }
 ],
 "metadata": {
  "kernelspec": {
   "display_name": "Python 3 (ipykernel)",
   "language": "python",
   "name": "python3"
  },
  "language_info": {
   "codemirror_mode": {
    "name": "ipython",
    "version": 3
   },
   "file_extension": ".py",
   "mimetype": "text/x-python",
   "name": "python",
   "nbconvert_exporter": "python",
   "pygments_lexer": "ipython3",
   "version": "3.12.7"
  }
 },
 "nbformat": 4,
 "nbformat_minor": 5
}
